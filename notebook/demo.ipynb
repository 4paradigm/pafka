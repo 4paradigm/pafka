{
 "cells": [
  {
   "cell_type": "code",
   "execution_count": 13,
   "id": "ecb01277-11b2-4b41-a973-f7543f509334",
   "metadata": {},
   "outputs": [],
   "source": [
    "from command import start_kafka, start_pafka, stop_kafka, stop_pafka, bench_producer, bench_consumer, print_result"
   ]
  },
  {
   "cell_type": "code",
   "execution_count": 14,
   "id": "dbff322d-5acb-4768-b1f1-45c54f8f44af",
   "metadata": {},
   "outputs": [],
   "source": [
    "# ***** benchmark for Kafka *****"
   ]
  },
  {
   "cell_type": "code",
   "execution_count": 15,
   "id": "e4fe7b7c-a481-4ebf-9275-dc29e61b6d1d",
   "metadata": {},
   "outputs": [
    {
     "name": "stdout",
     "output_type": "stream",
     "text": [
      "starting zookeeper ...\n",
      "[2021-05-14 14:55:35,755] INFO maxSessionTimeout set to 60000 (org.apache.zookeeper.server.ZooKeeperServer)\n",
      "[2021-05-14 14:55:35,756] INFO Created server with tickTime 3000 minSessionTimeout 6000 maxSessionTimeout 60000 datadir /mnt/hdd/zookeeper/version-2 snapdir /mnt/hdd/zookeeper/version-2 (org.apache.zookeeper.server.ZooKeeperServer)\n",
      "[2021-05-14 14:55:35,766] INFO Using org.apache.zookeeper.server.NIOServerCnxnFactory as server connection factory (org.apache.zookeeper.server.ServerCnxnFactory)\n",
      "[2021-05-14 14:55:35,768] INFO Configuring NIO connection handler with 10s sessionless connection timeout, 6 selector thread(s), 192 worker threads, and 64 kB direct buffers. (org.apache.zookeeper.server.NIOServerCnxnFactory)\n",
      "[2021-05-14 14:55:35,771] INFO binding to port 0.0.0.0/0.0.0.0:2181 (org.apache.zookeeper.server.NIOServerCnxnFactory)\n",
      "[2021-05-14 14:55:35,781] INFO zookeeper.snapshotSizeFactor = 0.33 (org.apache.zookeeper.server.ZKDatabase)\n",
      "[2021-05-14 14:55:35,783] INFO Snapshotting: 0x0 to /mnt/hdd/zookeeper/version-2/snapshot.0 (org.apache.zookeeper.server.persistence.FileTxnSnapLog)\n",
      "[2021-05-14 14:55:35,785] INFO Snapshotting: 0x0 to /mnt/hdd/zookeeper/version-2/snapshot.0 (org.apache.zookeeper.server.persistence.FileTxnSnapLog)\n",
      "[2021-05-14 14:55:35,792] INFO PrepRequestProcessor (sid:0) started, reconfigEnabled=false (org.apache.zookeeper.server.PrepRequestProcessor)\n",
      "[2021-05-14 14:55:35,809] INFO Using checkIntervalMs=60000 maxPerMinute=10000 (org.apache.zookeeper.server.ContainerManager)\n",
      "\n",
      "starting kafka ...\n",
      "[2021-05-14 14:55:39,198] INFO Updated cache from existing <empty> to latest FinalizedFeaturesAndEpoch(features=Features{}, epoch=0). (kafka.server.FinalizedFeatureCache)\n",
      "[2021-05-14 14:55:39,208] INFO [/config/changes-event-process-thread]: Starting (kafka.common.ZkNodeChangeNotificationListener$ChangeEventProcessThread)\n",
      "[2021-05-14 14:55:39,228] INFO [SocketServer listenerType=ZK_BROKER, nodeId=0] Starting socket server acceptors and processors (kafka.network.SocketServer)\n",
      "[2021-05-14 14:55:39,232] INFO [SocketServer listenerType=ZK_BROKER, nodeId=0] Started data-plane acceptor and processor(s) for endpoint : ListenerName(PLAINTEXT) (kafka.network.SocketServer)\n",
      "[2021-05-14 14:55:39,232] INFO [SocketServer listenerType=ZK_BROKER, nodeId=0] Started socket server acceptors and processors (kafka.network.SocketServer)\n",
      "[2021-05-14 14:55:39,236] INFO Kafka version: 3.0.0-SNAPSHOT (org.apache.kafka.common.utils.AppInfoParser)\n",
      "[2021-05-14 14:55:39,236] INFO Kafka commitId: ad19e1c2276e1efb (org.apache.kafka.common.utils.AppInfoParser)\n",
      "[2021-05-14 14:55:39,236] INFO Kafka startTimeMs: 1620975339232 (org.apache.kafka.common.utils.AppInfoParser)\n",
      "[2021-05-14 14:55:39,237] INFO [KafkaServer id=0] started (kafka.server.KafkaServer)\n",
      "[2021-05-14 14:55:39,360] INFO [BrokerToControllerChannelManager broker=0 name=alterIsr]: Recorded new controller, from now on will use broker node-4.sg.4pd.io:9092 (id: 0 rack: null) (kafka.server.BrokerToControllerRequestThread)\n",
      "\n",
      "kafka started\n"
     ]
    }
   ],
   "source": [
    "# Environment initialization, start zookeeper and kafka\n",
    "start_kafka()"
   ]
  },
  {
   "cell_type": "code",
   "execution_count": 16,
   "id": "878b2ece-299d-450d-875a-4859a8f9231e",
   "metadata": {},
   "outputs": [
    {
     "name": "stdout",
     "output_type": "stream",
     "text": [
      "2076827 records sent, 352482.5 records/sec (344.22 MB/sec), 59.4 ms avg latency (window), 957.0 ms max latency (window), 59.4 ms avg latency, 957.0 ms max latency.\n",
      "2076875 records sent, 327479.5 records/sec (319.80 MB/sec), 69.2 ms avg latency (window), 2252.0 ms max latency (window), 64.3 ms avg latency, 2252.0 ms max latency.\n",
      "2076652 records sent, 186631.8 records/sec (182.26 MB/sec), 49.5 ms avg latency (window), 7974.0 ms max latency (window), 59.4 ms avg latency, 7974.0 ms max latency.\n",
      "1708638 records sent, 341727.6 records/sec (333.72 MB/sec), 209.4 ms avg latency (window), 7999.0 ms max latency (window), 91.7 ms avg latency, 7999.0 ms max latency.\n",
      "787286 records sent, 157457.2 records/sec (153.77 MB/sec), 173.9 ms avg latency (window), 3680.0 ms max latency (window), 99.1 ms avg latency, 7999.0 ms max latency.\n",
      "619202 records sent, 91788.0 records/sec (89.64 MB/sec), 224.4 ms avg latency (window), 2310.0 ms max latency (window), 107.4 ms avg latency, 7999.0 ms max latency.\n",
      "666602 records sent, 133320.4 records/sec (130.20 MB/sec), 344.3 ms avg latency (window), 2329.0 ms max latency (window), 123.2 ms avg latency, 7999.0 ms max latency.\n",
      "371764 records sent, 37491.3 records/sec (36.61 MB/sec), 243.2 ms avg latency (window), 6760.0 ms max latency (window), 127.5 ms avg latency, 7999.0 ms max latency.\n",
      "1038302 records sent, 114161.8 records/sec (111.49 MB/sec), 289.6 ms avg latency (window), 6768.0 ms max latency (window), 142.2 ms avg latency, 7999.0 ms max latency.\n",
      "887347 records sent, 169827.2 records/sec (165.85 MB/sec), 289.6 ms avg latency (window), 5922.0 ms max latency (window), 152.8 ms avg latency, 7999.0 ms max latency.\n",
      "736438 records sent, 146759.3 records/sec (143.32 MB/sec), 306.5 ms avg latency (window), 3112.0 ms max latency (window), 161.5 ms avg latency, 7999.0 ms max latency.\n",
      "452986 records sent, 73644.3 records/sec (71.92 MB/sec), 292.0 ms avg latency (window), 2147.0 ms max latency (window), 165.9 ms avg latency, 7999.0 ms max latency.\n",
      "692514 records sent, 138281.5 records/sec (135.04 MB/sec), 315.6 ms avg latency (window), 2148.0 ms max latency (window), 173.2 ms avg latency, 7999.0 ms max latency.\n",
      "345862 records sent, 62407.4 records/sec (60.94 MB/sec), 308.5 ms avg latency (window), 2531.0 ms max latency (window), 176.4 ms avg latency, 7999.0 ms max latency.\n",
      "739440 records sent, 139254.2 records/sec (135.99 MB/sec), 311.1 ms avg latency (window), 2533.0 ms max latency (window), 182.9 ms avg latency, 7999.0 ms max latency.\n",
      "298936 records sent, 40495.3 records/sec (39.55 MB/sec), 352.2 ms avg latency (window), 4943.0 ms max latency (window), 186.2 ms avg latency, 7999.0 ms max latency.\n",
      "895512 records sent, 175693.9 records/sec (171.58 MB/sec), 295.2 ms avg latency (window), 4946.0 ms max latency (window), 192.1 ms avg latency, 7999.0 ms max latency.\n",
      "553833 records sent, 88812.2 records/sec (86.73 MB/sec), 304.0 ms avg latency (window), 3673.0 ms max latency (window), 195.7 ms avg latency, 7999.0 ms max latency.\n",
      "627418 records sent, 111978.9 records/sec (109.35 MB/sec), 291.0 ms avg latency (window), 1735.0 ms max latency (window), 199.1 ms avg latency, 7999.0 ms max latency.\n",
      "630420 records sent, 126084.0 records/sec (123.13 MB/sec), 324.6 ms avg latency (window), 1577.0 ms max latency (window), 203.4 ms avg latency, 7999.0 ms max latency.\n",
      "407956 records sent, 76453.5 records/sec (74.66 MB/sec), 295.0 ms avg latency (window), 1731.0 ms max latency (window), 205.4 ms avg latency, 7999.0 ms max latency.\n",
      "604508 records sent, 116768.0 records/sec (114.03 MB/sec), 302.5 ms avg latency (window), 1715.0 ms max latency (window), 208.5 ms avg latency, 7999.0 ms max latency.\n",
      "433885 records sent, 82519.0 records/sec (80.58 MB/sec), 318.6 ms avg latency (window), 2027.0 ms max latency (window), 210.9 ms avg latency, 7999.0 ms max latency.\n",
      "572118 records sent, 95528.1 records/sec (93.29 MB/sec), 308.6 ms avg latency (window), 2105.0 ms max latency (window), 213.7 ms avg latency, 7999.0 ms max latency.\n",
      "466258 records sent, 70698.7 records/sec (69.04 MB/sec), 368.1 ms avg latency (window), 3976.0 ms max latency (window), 217.1 ms avg latency, 7999.0 ms max latency.\n",
      "745209 records sent, 136260.6 records/sec (133.07 MB/sec), 257.4 ms avg latency (window), 3992.0 ms max latency (window), 218.5 ms avg latency, 7999.0 ms max latency.\n",
      "293090 records sent, 51212.7 records/sec (50.01 MB/sec), 336.6 ms avg latency (window), 4613.0 ms max latency (window), 220.1 ms avg latency, 7999.0 ms max latency.\n",
      "970446 records sent, 192778.3 records/sec (188.26 MB/sec), 293.0 ms avg latency (window), 4635.0 ms max latency (window), 223.2 ms avg latency, 7999.0 ms max latency.\n",
      "499150 records sent, 99830.0 records/sec (97.49 MB/sec), 310.3 ms avg latency (window), 3340.0 ms max latency (window), 225.1 ms avg latency, 7999.0 ms max latency.\n",
      "426442 records sent, 73234.1 records/sec (71.52 MB/sec), 280.6 ms avg latency (window), 1968.0 ms max latency (window), 226.1 ms avg latency, 7999.0 ms max latency.\n",
      "180752 records sent, 27465.7 records/sec (26.82 MB/sec), 373.0 ms avg latency (window), 6319.0 ms max latency (window), 227.2 ms avg latency, 7999.0 ms max latency.\n",
      "1156576 records sent, 231315.2 records/sec (225.89 MB/sec), 289.2 ms avg latency (window), 6361.0 ms max latency (window), 230.1 ms avg latency, 7999.0 ms max latency.\n",
      "513658 records sent, 92334.7 records/sec (90.17 MB/sec), 303.1 ms avg latency (window), 1611.0 ms max latency (window), 231.5 ms avg latency, 7999.0 ms max latency.\n",
      "406534 records sent, 79556.6 records/sec (77.69 MB/sec), 315.5 ms avg latency (window), 1993.0 ms max latency (window), 232.8 ms avg latency, 7999.0 ms max latency.\n",
      "629630 records sent, 125926.0 records/sec (122.97 MB/sec), 339.2 ms avg latency (window), 2008.0 ms max latency (window), 235.4 ms avg latency, 7999.0 ms max latency.\n",
      "537832 records sent, 107480.4 records/sec (104.96 MB/sec), 291.7 ms avg latency (window), 941.0 ms max latency (window), 236.5 ms avg latency, 7999.0 ms max latency.\n",
      "498806 records sent, 99721.3 records/sec (97.38 MB/sec), 320.6 ms avg latency (window), 964.0 ms max latency (window), 238.0 ms avg latency, 7999.0 ms max latency.\n",
      "410484 records sent, 64228.4 records/sec (62.72 MB/sec), 336.5 ms avg latency (window), 2509.0 ms max latency (window), 239.4 ms avg latency, 7999.0 ms max latency.\n",
      "722060 records sent, 144412.0 records/sec (141.03 MB/sec), 307.3 ms avg latency (window), 2507.0 ms max latency (window), 241.1 ms avg latency, 7999.0 ms max latency.\n",
      "316316 records sent, 54368.5 records/sec (53.09 MB/sec), 331.0 ms avg latency (window), 2916.0 ms max latency (window), 242.1 ms avg latency, 7999.0 ms max latency.\n",
      "708314 records sent, 120934.6 records/sec (118.10 MB/sec), 314.0 ms avg latency (window), 2919.0 ms max latency (window), 243.8 ms avg latency, 7999.0 ms max latency.\n",
      "30000000 records sent, 123667.482872 records/sec (120.77 MB/sec), 244.63 ms avg latency, 7999.00 ms max latency, 50 ms 50th, 1013 ms 95th, 3112 ms 99th, 7982 ms 99.9th.\n",
      "Benchmark producer done\n"
     ]
    }
   ],
   "source": [
    "# benchmark the producer performance of kafka\n",
    "bench_producer(num_records=30000000, record_size=1024)"
   ]
  },
  {
   "cell_type": "code",
   "execution_count": 17,
   "id": "1591f2df-b4e0-4a7a-a7dc-31df6be57079",
   "metadata": {
    "tags": []
   },
   "outputs": [
    {
     "name": "stdout",
     "output_type": "stream",
     "text": [
      "time, threadId, data.consumed.in.MB, MB.sec, data.consumed.in.nMsg, nMsg.sec, rebalance.time.ms, fetch.time.ms, fetch.MB.sec, fetch.nMsg.sec, windowMaxLatency, windowAvgLatency, maxLatency, avgLatency\n",
      "2021-05-14 15:00:48:610, 0, 73.9814, 73.9075, 75757, 75681.3187, 247, 754, 98.1186, 100473.4748, 275.0000, 6.5352, 275.0000, 6.5352\n",
      "2021-05-14 15:00:49:611, 0, 177.6689, 103.5839, 181933, 106069.9301, 0, 1001, 103.5839, 106069.9301, 13.0000, 4.6541, 275.0000, 5.4374\n",
      "2021-05-14 15:00:50:613, 0, 278.5791, 100.7087, 285265, 103125.7485, 0, 1002, 100.7087, 103125.7485, 20.0000, 4.7976, 275.0000, 5.2056\n",
      "2021-05-14 15:00:51:618, 0, 374.8604, 95.8022, 383857, 98101.4925, 0, 1005, 95.8022, 98101.4925, 23.0000, 5.0240, 275.0000, 5.1590\n",
      "2021-05-14 15:00:52:620, 0, 479.4736, 104.4045, 490981, 106910.1796, 0, 1002, 104.4045, 106910.1796, 14.0000, 4.6157, 275.0000, 5.0404\n",
      "2021-05-14 15:00:53:622, 0, 581.3096, 101.6327, 595261, 104071.8563, 0, 1002, 101.6327, 104071.8563, 14.0000, 4.7525, 275.0000, 4.9900\n",
      "2021-05-14 15:00:54:623, 0, 682.2197, 100.8093, 698593, 103228.7712, 0, 1001, 100.8093, 103228.7712, 15.0000, 4.7802, 275.0000, 4.9590\n",
      "2021-05-14 15:00:55:624, 0, 786.8330, 104.5088, 805717, 107016.9830, 0, 1001, 104.5088, 107016.9830, 17.0000, 4.6217, 275.0000, 4.9141\n",
      "2021-05-14 15:00:56:632, 0, 885.8916, 98.2724, 907153, 100630.9524, 0, 1008, 98.2724, 100630.9524, 26.0000, 4.9148, 275.0000, 4.9142\n",
      "2021-05-14 15:00:57:632, 0, 988.6533, 102.7617, 1012381, 105228.0000, 0, 1000, 102.7617, 105228.0000, 11.0000, 4.6982, 275.0000, 4.8918\n",
      "2021-05-14 15:00:58:636, 0, 1084.4717, 95.4366, 1110499, 97727.0916, 0, 1004, 95.4366, 97727.0916, 34.0000, 5.0665, 275.0000, 4.9072\n",
      "2021-05-14 15:00:59:643, 0, 1174.2725, 89.1765, 1202455, 91316.7825, 0, 1007, 89.1765, 91316.7825, 46.0000, 5.4234, 275.0000, 4.9467\n",
      "2021-05-14 15:01:00:643, 0, 1279.3740, 105.1016, 1310079, 107624.0000, 0, 1000, 105.1016, 107624.0000, 11.0000, 4.5994, 275.0000, 4.9181\n",
      "2021-05-14 15:01:01:643, 0, 1375.1670, 95.7930, 1408171, 98092.0000, 0, 1000, 95.7930, 98092.0000, 27.0000, 5.0395, 275.0000, 4.9266\n",
      "2021-05-14 15:01:02:645, 0, 1470.5225, 95.1651, 1505815, 97449.1018, 0, 1002, 95.1651, 97449.1018, 35.0000, 5.0771, 275.0000, 4.9364\n",
      "2021-05-14 15:01:03:649, 0, 1566.3662, 95.4619, 1603959, 97752.9880, 0, 1004, 95.4619, 97752.9880, 19.0000, 5.0429, 275.0000, 4.9429\n",
      "2021-05-14 15:01:04:654, 0, 1663.0850, 96.2376, 1702999, 98547.2637, 0, 1005, 96.2376, 98547.2637, 34.0000, 5.0280, 275.0000, 4.9478\n",
      "2021-05-14 15:01:05:661, 0, 1764.9209, 101.1280, 1807279, 103555.1142, 0, 1007, 101.1280, 103555.1142, 19.0000, 4.7670, 275.0000, 4.9374\n",
      "2021-05-14 15:01:06:669, 0, 1860.2764, 94.5987, 1904923, 96869.0476, 0, 1008, 94.5987, 96869.0476, 35.0000, 5.1137, 275.0000, 4.9464\n",
      "2021-05-14 15:01:07:675, 0, 1964.8896, 103.9893, 2012047, 106485.0895, 0, 1006, 103.9893, 106485.0895, 14.0000, 4.6489, 275.0000, 4.9306\n",
      "2021-05-14 15:01:08:675, 0, 2060.1162, 95.2266, 2109559, 97512.0000, 0, 1000, 95.2266, 97512.0000, 27.0000, 5.0709, 275.0000, 4.9371\n",
      "2021-05-14 15:01:09:676, 0, 2158.6865, 98.4718, 2210495, 100835.1648, 0, 1001, 98.4718, 100835.1648, 29.0000, 4.9071, 275.0000, 4.9357\n",
      "2021-05-14 15:01:10:677, 0, 2257.7451, 98.9596, 2311931, 101334.6653, 0, 1001, 98.9596, 101334.6653, 16.0000, 4.8813, 275.0000, 4.9333\n",
      "2021-05-14 15:01:11:683, 0, 2357.7295, 99.3880, 2414315, 101773.3598, 0, 1006, 99.3880, 101773.3598, 25.0000, 4.8570, 275.0000, 4.9301\n",
      "2021-05-14 15:01:12:687, 0, 2453.0850, 94.9756, 2511959, 97254.9801, 0, 1004, 94.9756, 97254.9801, 39.0000, 5.0959, 275.0000, 4.9365\n",
      "2021-05-14 15:01:13:691, 0, 2552.1436, 98.6639, 2613395, 101031.8725, 0, 1004, 98.6639, 101031.8725, 14.0000, 4.8982, 275.0000, 4.9350\n",
      "2021-05-14 15:01:14:692, 0, 2654.9053, 102.6591, 2718623, 105122.8771, 0, 1001, 102.6591, 105122.8771, 20.0000, 4.7129, 275.0000, 4.9264\n",
      "2021-05-14 15:01:15:694, 0, 2756.7412, 101.6327, 2822903, 104071.8563, 0, 1002, 101.6327, 104071.8563, 16.0000, 4.7535, 275.0000, 4.9200\n",
      "2021-05-14 15:01:16:696, 0, 2853.9482, 97.0130, 2922443, 99341.3174, 0, 1002, 97.0130, 99341.3174, 25.0000, 4.9715, 275.0000, 4.9218\n",
      "2021-05-14 15:01:17:699, 0, 2960.5117, 106.2447, 3031564, 108794.6162, 0, 1003, 106.2447, 108794.6162, 11.0000, 4.5514, 275.0000, 4.9085\n",
      "2021-05-14 15:01:18:704, 0, 3059.8369, 98.8310, 3133273, 101202.9851, 0, 1005, 98.8310, 101202.9851, 32.0000, 4.8919, 275.0000, 4.9079\n",
      "2021-05-14 15:01:19:705, 0, 3157.0439, 97.1099, 3232813, 99440.5594, 0, 1001, 97.1099, 99440.5594, 27.0000, 4.9733, 275.0000, 4.9099\n",
      "2021-05-14 15:01:20:710, 0, 3257.9541, 100.4081, 3336145, 102817.9104, 0, 1005, 100.4081, 102817.9104, 15.0000, 4.8131, 275.0000, 4.9069\n",
      "2021-05-14 15:01:21:711, 0, 3354.2354, 96.1851, 3434737, 98493.5065, 0, 1001, 96.1851, 98493.5065, 25.0000, 5.0153, 275.0000, 4.9101\n",
      "2021-05-14 15:01:22:716, 0, 3456.9971, 102.2505, 3539965, 104704.4776, 0, 1005, 102.2505, 104704.4776, 34.0000, 4.7328, 275.0000, 4.9048\n",
      "2021-05-14 15:01:23:716, 0, 3556.9814, 99.9844, 3642349, 102384.0000, 0, 1000, 99.9844, 102384.0000, 16.0000, 4.8262, 275.0000, 4.9026\n",
      "2021-05-14 15:01:24:716, 0, 3660.6689, 103.6875, 3748525, 106176.0000, 0, 1000, 103.6875, 106176.0000, 15.0000, 4.6587, 275.0000, 4.8957\n",
      "2021-05-14 15:01:25:717, 0, 3765.2822, 104.5088, 3855649, 107016.9830, 0, 1001, 104.5088, 107016.9830, 19.0000, 4.6202, 275.0000, 4.8880\n",
      "2021-05-14 15:01:26:718, 0, 3863.4150, 98.0348, 3956137, 100387.6124, 0, 1001, 98.0348, 100387.6124, 27.0000, 4.9238, 275.0000, 4.8889\n",
      "2021-05-14 15:01:27:726, 0, 3959.6963, 95.5171, 4054729, 97809.5238, 0, 1008, 95.5171, 97809.5238, 31.0000, 5.0555, 275.0000, 4.8930\n",
      "2021-05-14 15:01:28:733, 0, 4062.8301, 102.4169, 4160338, 104874.8759, 0, 1007, 102.4169, 104874.8759, 39.0000, 4.6963, 275.0000, 4.8880\n",
      "2021-05-14 15:01:29:746, 0, 4159.1113, 95.0457, 4258930, 97326.7522, 0, 1013, 95.0457, 97326.7522, 20.0000, 5.0930, 275.0000, 4.8927\n",
      "2021-05-14 15:01:30:751, 0, 4259.0957, 99.4869, 4361314, 101874.6269, 0, 1005, 99.4869, 101874.6269, 23.0000, 4.8542, 275.0000, 4.8918\n",
      "2021-05-14 15:01:31:751, 0, 4356.3027, 97.2070, 4460854, 99540.0000, 0, 1000, 97.2070, 99540.0000, 34.0000, 4.9656, 275.0000, 4.8935\n",
      "2021-05-14 15:01:32:752, 0, 4462.6982, 106.2892, 4569803, 108840.1598, 0, 1001, 106.2892, 108840.1598, 14.0000, 4.5311, 275.0000, 4.8848\n",
      "2021-05-14 15:01:33:753, 0, 4563.9785, 101.1791, 4673514, 103607.3926, 0, 1001, 101.1791, 103607.3926, 34.0000, 4.7080, 275.0000, 4.8809\n",
      "2021-05-14 15:01:34:758, 0, 4665.5264, 101.0426, 4777499, 103467.6617, 0, 1005, 101.0426, 103467.6617, 14.0000, 4.7513, 275.0000, 4.8781\n",
      "2021-05-14 15:01:35:758, 0, 4769.7266, 104.2002, 4884200, 106701.0000, 0, 1000, 104.2002, 106701.0000, 22.0000, 4.6256, 275.0000, 4.8726\n",
      "2021-05-14 15:01:36:763, 0, 4866.5762, 96.3678, 4983374, 98680.5970, 0, 1005, 96.3678, 98680.5970, 33.0000, 5.0108, 275.0000, 4.8753\n",
      "5000437 records received, 101408.17 records/sec (99.03 MB/sec), 4.87 ms avg latency, 275.00 ms max latency\n",
      "Benchmark consumer done\n"
     ]
    }
   ],
   "source": [
    "# benchmark the consumer performance of kafka\n",
    "bench_consumer(num_records=5000000)"
   ]
  },
  {
   "cell_type": "code",
   "execution_count": 18,
   "id": "f6769358-75a4-4aa1-92ab-826b6c96d7e4",
   "metadata": {},
   "outputs": [
    {
     "name": "stdout",
     "output_type": "stream",
     "text": [
      "stopping kafka ...\n",
      "kafka stopped\n",
      "data deleted\n"
     ]
    }
   ],
   "source": [
    "# stop zookeeper and kafka service, and delete all the data\n",
    "stop_kafka(delete_data=True)"
   ]
  },
  {
   "cell_type": "code",
   "execution_count": 19,
   "id": "05a79146-9990-4ee0-b244-8e45b9e77b8f",
   "metadata": {},
   "outputs": [],
   "source": [
    "# ***** benchmark for Pafka *****"
   ]
  },
  {
   "cell_type": "code",
   "execution_count": 20,
   "id": "6a86dd27-3577-4d30-a597-eb14e296bf61",
   "metadata": {},
   "outputs": [
    {
     "name": "stdout",
     "output_type": "stream",
     "text": [
      "starting zookeeper ...\n",
      "[2021-05-14 15:01:44,667] INFO maxSessionTimeout set to 60000 (org.apache.zookeeper.server.ZooKeeperServer)\n",
      "[2021-05-14 15:01:44,668] INFO Created server with tickTime 3000 minSessionTimeout 6000 maxSessionTimeout 60000 datadir /pmem/zookeeper/version-2 snapdir /pmem/zookeeper/version-2 (org.apache.zookeeper.server.ZooKeeperServer)\n",
      "[2021-05-14 15:01:44,673] INFO Using org.apache.zookeeper.server.NIOServerCnxnFactory as server connection factory (org.apache.zookeeper.server.ServerCnxnFactory)\n",
      "[2021-05-14 15:01:44,674] INFO Configuring NIO connection handler with 10s sessionless connection timeout, 6 selector thread(s), 192 worker threads, and 64 kB direct buffers. (org.apache.zookeeper.server.NIOServerCnxnFactory)\n",
      "[2021-05-14 15:01:44,677] INFO binding to port 0.0.0.0/0.0.0.0:2181 (org.apache.zookeeper.server.NIOServerCnxnFactory)\n",
      "[2021-05-14 15:01:44,687] INFO zookeeper.snapshotSizeFactor = 0.33 (org.apache.zookeeper.server.ZKDatabase)\n",
      "[2021-05-14 15:01:44,689] INFO Snapshotting: 0x0 to /pmem/zookeeper/version-2/snapshot.0 (org.apache.zookeeper.server.persistence.FileTxnSnapLog)\n",
      "[2021-05-14 15:01:44,691] INFO Snapshotting: 0x0 to /pmem/zookeeper/version-2/snapshot.0 (org.apache.zookeeper.server.persistence.FileTxnSnapLog)\n",
      "[2021-05-14 15:01:44,698] INFO PrepRequestProcessor (sid:0) started, reconfigEnabled=false (org.apache.zookeeper.server.PrepRequestProcessor)\n",
      "[2021-05-14 15:01:44,710] INFO Using checkIntervalMs=60000 maxPerMinute=10000 (org.apache.zookeeper.server.ContainerManager)\n",
      "\n",
      "starting pafka ...\n",
      "[2021-05-14 15:02:04,708] INFO Updated cache from existing <empty> to latest FinalizedFeaturesAndEpoch(features=Features{}, epoch=0). (kafka.server.FinalizedFeatureCache)\n",
      "[2021-05-14 15:02:04,720] INFO [/config/changes-event-process-thread]: Starting (kafka.common.ZkNodeChangeNotificationListener$ChangeEventProcessThread)\n",
      "[2021-05-14 15:02:04,738] INFO [SocketServer listenerType=ZK_BROKER, nodeId=0] Starting socket server acceptors and processors (kafka.network.SocketServer)\n",
      "[2021-05-14 15:02:04,742] INFO [SocketServer listenerType=ZK_BROKER, nodeId=0] Started data-plane acceptor and processor(s) for endpoint : ListenerName(PLAINTEXT) (kafka.network.SocketServer)\n",
      "[2021-05-14 15:02:04,742] INFO [SocketServer listenerType=ZK_BROKER, nodeId=0] Started socket server acceptors and processors (kafka.network.SocketServer)\n",
      "[2021-05-14 15:02:04,743] INFO Kafka version: 3.0.0-SNAPSHOT (org.apache.kafka.common.utils.AppInfoParser)\n",
      "[2021-05-14 15:02:04,743] INFO Kafka commitId: ad19e1c2276e1efb (org.apache.kafka.common.utils.AppInfoParser)\n",
      "[2021-05-14 15:02:04,744] INFO Kafka startTimeMs: 1620975724742 (org.apache.kafka.common.utils.AppInfoParser)\n",
      "[2021-05-14 15:02:04,744] INFO [KafkaServer id=0] started (kafka.server.KafkaServer)\n",
      "[2021-05-14 15:02:04,941] INFO [BrokerToControllerChannelManager broker=0 name=alterIsr]: Recorded new controller, from now on will use broker node-4.sg.4pd.io:9092 (id: 0 rack: null) (kafka.server.BrokerToControllerRequestThread)\n",
      "\n",
      "pafka started\n"
     ]
    }
   ],
   "source": [
    "# start pafka with PMem. if service already started. stop first\n",
    "# stop_pafka(delete_data=True)\n",
    "start_pafka()"
   ]
  },
  {
   "cell_type": "code",
   "execution_count": 21,
   "id": "9aad2066-6428-498f-b9ba-ebd7ac4a5d6c",
   "metadata": {},
   "outputs": [
    {
     "name": "stdout",
     "output_type": "stream",
     "text": [
      "2413231 records sent, 482646.2 records/sec (471.33 MB/sec), 45.3 ms avg latency (window), 489.0 ms max latency (window), 45.3 ms avg latency, 489.0 ms max latency.\n",
      "3627914 records sent, 725582.8 records/sec (708.58 MB/sec), 13.0 ms avg latency (window), 63.0 ms max latency (window), 25.9 ms avg latency, 489.0 ms max latency.\n",
      "3572785 records sent, 714557.0 records/sec (697.81 MB/sec), 5.7 ms avg latency (window), 59.0 ms max latency (window), 18.4 ms avg latency, 489.0 ms max latency.\n",
      "3473343 records sent, 694668.6 records/sec (678.39 MB/sec), 4.4 ms avg latency (window), 52.0 ms max latency (window), 14.7 ms avg latency, 489.0 ms max latency.\n",
      "3508469 records sent, 701693.8 records/sec (685.25 MB/sec), 7.0 ms avg latency (window), 67.0 ms max latency (window), 13.1 ms avg latency, 489.0 ms max latency.\n",
      "3536193 records sent, 707238.6 records/sec (690.66 MB/sec), 8.4 ms avg latency (window), 62.0 ms max latency (window), 12.2 ms avg latency, 489.0 ms max latency.\n",
      "3517081 records sent, 703416.2 records/sec (686.93 MB/sec), 1.8 ms avg latency (window), 17.0 ms max latency (window), 10.7 ms avg latency, 489.0 ms max latency.\n",
      "3478329 records sent, 695665.8 records/sec (679.36 MB/sec), 4.5 ms avg latency (window), 42.0 ms max latency (window), 9.9 ms avg latency, 489.0 ms max latency.\n",
      "30000000 records sent, 678625.557038 records/sec (662.72 MB/sec), 9.09 ms avg latency, 489.00 ms max latency, 2 ms 50th, 44 ms 95th, 76 ms 99th, 149 ms 99.9th.\n",
      "Benchmark producer done\n"
     ]
    }
   ],
   "source": [
    "# benchmark the producer performance of pafka\n",
    "bench_producer(num_records=30000000, record_size=1024)"
   ]
  },
  {
   "cell_type": "code",
   "execution_count": 22,
   "id": "12743b59-f2b1-4bdd-95d0-7e0e14d135fb",
   "metadata": {
    "tags": []
   },
   "outputs": [
    {
     "name": "stdout",
     "output_type": "stream",
     "text": [
      "time, threadId, data.consumed.in.MB, MB.sec, data.consumed.in.nMsg, nMsg.sec, rebalance.time.ms, fetch.time.ms, fetch.MB.sec, fetch.nMsg.sec, windowMaxLatency, windowAvgLatency, maxLatency, avgLatency\n",
      "2021-05-14 15:02:57:131, 0, 142.6338, 142.6338, 146057, 146057.0000, 243, 757, 188.4198, 192941.8758, 270.0000, 3.3687, 270.0000, 3.3687\n",
      "2021-05-14 15:02:58:132, 0, 446.7783, 303.8407, 457501, 311132.8671, 0, 1001, 303.8407, 311132.8671, 18.0000, 1.5748, 270.0000, 2.1475\n",
      "2021-05-14 15:02:59:137, 0, 799.9385, 351.4031, 819137, 359836.8159, 0, 1005, 351.4031, 359836.8159, 19.0000, 1.3600, 270.0000, 1.7999\n",
      "2021-05-14 15:03:00:137, 0, 1187.7119, 387.7734, 1216217, 397080.0000, 0, 1000, 387.7734, 397080.0000, 8.0000, 1.2353, 270.0000, 1.6155\n",
      "2021-05-14 15:03:01:140, 0, 1598.8105, 409.8690, 1637182, 419705.8824, 0, 1003, 409.8690, 419705.8824, 7.0000, 1.1671, 270.0000, 1.5002\n",
      "2021-05-14 15:03:02:140, 0, 1989.9473, 391.1367, 2037706, 400524.0000, 0, 1000, 391.1367, 400524.0000, 8.0000, 1.2255, 270.0000, 1.4462\n",
      "2021-05-14 15:03:03:141, 0, 2395.7080, 405.3554, 2453205, 415083.9161, 0, 1001, 405.3554, 415083.9161, 10.0000, 1.1818, 270.0000, 1.4014\n",
      "2021-05-14 15:03:04:141, 0, 2810.0938, 414.3857, 2877536, 424331.0000, 0, 1000, 414.3857, 424331.0000, 7.0000, 1.1547, 270.0000, 1.3651\n",
      "2021-05-14 15:03:05:141, 0, 3258.6201, 448.5264, 3336827, 459291.0000, 0, 1000, 448.5264, 459291.0000, 7.0000, 1.0702, 270.0000, 1.3245\n",
      "2021-05-14 15:03:06:141, 0, 3702.7793, 444.1592, 3791646, 454819.0000, 0, 1000, 444.1592, 454819.0000, 7.0000, 1.0762, 270.0000, 1.2947\n",
      "2021-05-14 15:03:07:141, 0, 4150.8096, 448.0303, 4250429, 458783.0000, 0, 1000, 448.0303, 458783.0000, 7.0000, 1.0670, 270.0000, 1.2701\n",
      "2021-05-14 15:03:08:142, 0, 4619.6807, 468.4027, 4730553, 479644.3556, 0, 1001, 468.4027, 479644.3556, 7.0000, 1.0212, 270.0000, 1.2449\n",
      "2021-05-14 15:03:09:142, 0, 5063.7217, 444.0410, 5185251, 454698.0000, 0, 1000, 444.0410, 454698.0000, 7.0000, 1.0764, 270.0000, 1.2301\n",
      "2021-05-14 15:03:10:145, 0, 5536.9658, 471.8287, 5669853, 483152.5424, 0, 1003, 471.8287, 483152.5424, 7.0000, 1.0126, 270.0000, 1.2115\n",
      "2021-05-14 15:03:11:145, 0, 6003.2549, 466.2891, 6147333, 477480.0000, 0, 1000, 466.2891, 477480.0000, 7.0000, 1.0274, 270.0000, 1.1972\n",
      "2021-05-14 15:03:12:146, 0, 6491.9717, 488.2286, 6647779, 499946.0539, 0, 1001, 488.2286, 499946.0539, 7.0000, 0.9826, 270.0000, 1.1811\n",
      "2021-05-14 15:03:13:146, 0, 7018.6504, 526.6787, 7187098, 539319.0000, 0, 1000, 526.6787, 539319.0000, 7.0000, 0.9068, 270.0000, 1.1605\n",
      "2021-05-14 15:03:14:147, 0, 7558.9316, 539.7415, 7740346, 552695.3047, 0, 1001, 539.7415, 552695.3047, 7.0000, 0.8833, 270.0000, 1.1407\n",
      "2021-05-14 15:03:15:150, 0, 8051.9697, 491.5634, 8245217, 503360.9172, 0, 1003, 491.5634, 503360.9172, 7.0000, 0.9638, 270.0000, 1.1298\n",
      "2021-05-14 15:03:16:152, 0, 8536.1426, 483.2064, 8741010, 494803.3932, 0, 1002, 483.2064, 494803.3932, 18.0000, 0.9908, 270.0000, 1.1219\n",
      "2021-05-14 15:03:17:152, 0, 9055.1338, 518.9912, 9272457, 531447.0000, 0, 1000, 518.9912, 531447.0000, 6.0000, 0.9208, 270.0000, 1.1104\n",
      "2021-05-14 15:03:18:154, 0, 9578.4482, 522.2699, 9808331, 534804.3912, 0, 1002, 522.2699, 534804.3912, 7.0000, 0.9148, 270.0000, 1.0997\n",
      "10000200 records received, 446896.37 records/sec (436.42 MB/sec), 1.10 ms avg latency, 270.00 ms max latency\n",
      "Benchmark consumer done\n"
     ]
    }
   ],
   "source": [
    "# benchmark the consumer performance of pafka\n",
    "bench_consumer(num_records=10000000)"
   ]
  },
  {
   "cell_type": "code",
   "execution_count": 23,
   "id": "a5e43504-8864-4fe3-a5eb-a1922343e7f8",
   "metadata": {},
   "outputs": [
    {
     "name": "stdout",
     "output_type": "stream",
     "text": [
      "stopping pafka ...\n",
      "pafka stopped\n",
      "data deleted\n"
     ]
    }
   ],
   "source": [
    "# stop zookeeper and kafka service\n",
    "stop_pafka(delete_data=True)"
   ]
  },
  {
   "cell_type": "code",
   "execution_count": 24,
   "id": "4808c5d3-b84e-4d6f-8f95-5b3ad2be1736",
   "metadata": {},
   "outputs": [
    {
     "name": "stdout",
     "output_type": "stream",
     "text": [
      "       Producer Throughput                        Producer Avg Latency    Consumer Throughput                    Consumer Avg Latency\n",
      "-----  -----------------------------------------  ----------------------  -------------------------------------  ----------------------\n",
      "kafka  123667.482872 records/sec (120.77 MB/sec)  244.63 ms               101408.17 records/sec (99.03 MB/sec)   4.87 ms\n",
      "pafka  678625.557038 records/sec (662.72 MB/sec)  9.09 ms                 446896.37 records/sec (436.42 MB/sec)  1.10 ms\n"
     ]
    }
   ],
   "source": [
    "# print the summarized results\n",
    "print_result()"
   ]
  },
  {
   "cell_type": "code",
   "execution_count": null,
   "id": "46fca0ef-9218-43af-92ac-f3505a2816ba",
   "metadata": {},
   "outputs": [],
   "source": []
  }
 ],
 "metadata": {
  "kernelspec": {
   "display_name": "Python 3",
   "language": "python",
   "name": "python3"
  },
  "language_info": {
   "codemirror_mode": {
    "name": "ipython",
    "version": 3
   },
   "file_extension": ".py",
   "mimetype": "text/x-python",
   "name": "python",
   "nbconvert_exporter": "python",
   "pygments_lexer": "ipython3",
   "version": "3.6.8"
  }
 },
 "nbformat": 4,
 "nbformat_minor": 5
}
