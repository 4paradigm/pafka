{
 "cells": [
  {
   "cell_type": "code",
   "execution_count": 1,
   "id": "be968004-12a0-42c1-91da-74748c00f1fe",
   "metadata": {},
   "outputs": [],
   "source": [
    "from command import start_kafka, start_pafka, stop_kafka, stop_pafka, bench_write, bench_read\n",
    "import time"
   ]
  },
  {
   "cell_type": "code",
   "execution_count": 2,
   "id": "dbff322d-5acb-4768-b1f1-45c54f8f44af",
   "metadata": {},
   "outputs": [],
   "source": [
    "# ***** benchmark for Kafka *****"
   ]
  },
  {
   "cell_type": "code",
   "execution_count": 3,
   "id": "e4fe7b7c-a481-4ebf-9275-dc29e61b6d1d",
   "metadata": {},
   "outputs": [
    {
     "name": "stdout",
     "output_type": "stream",
     "text": [
      "starting zookeeper ...\n",
      "[2021-05-05 17:44:31,637] INFO maxSessionTimeout set to 60000 (org.apache.zookeeper.server.ZooKeeperServer)\n",
      "[2021-05-05 17:44:31,637] INFO Created server with tickTime 3000 minSessionTimeout 6000 maxSessionTimeout 60000 datadir /mnt/hdd/zookeeper/version-2 snapdir /mnt/hdd/zookeeper/version-2 (org.apache.zookeeper.server.ZooKeeperServer)\n",
      "[2021-05-05 17:44:31,643] INFO Using org.apache.zookeeper.server.NIOServerCnxnFactory as server connection factory (org.apache.zookeeper.server.ServerCnxnFactory)\n",
      "[2021-05-05 17:44:31,644] INFO Configuring NIO connection handler with 10s sessionless connection timeout, 6 selector thread(s), 192 worker threads, and 64 kB direct buffers. (org.apache.zookeeper.server.NIOServerCnxnFactory)\n",
      "[2021-05-05 17:44:31,646] INFO binding to port 0.0.0.0/0.0.0.0:2181 (org.apache.zookeeper.server.NIOServerCnxnFactory)\n",
      "[2021-05-05 17:44:31,656] INFO zookeeper.snapshotSizeFactor = 0.33 (org.apache.zookeeper.server.ZKDatabase)\n",
      "[2021-05-05 17:44:31,658] INFO Snapshotting: 0x0 to /mnt/hdd/zookeeper/version-2/snapshot.0 (org.apache.zookeeper.server.persistence.FileTxnSnapLog)\n",
      "[2021-05-05 17:44:31,660] INFO Snapshotting: 0x0 to /mnt/hdd/zookeeper/version-2/snapshot.0 (org.apache.zookeeper.server.persistence.FileTxnSnapLog)\n",
      "[2021-05-05 17:44:31,677] INFO PrepRequestProcessor (sid:0) started, reconfigEnabled=false (org.apache.zookeeper.server.PrepRequestProcessor)\n",
      "[2021-05-05 17:44:31,680] INFO Using checkIntervalMs=60000 maxPerMinute=10000 (org.apache.zookeeper.server.ContainerManager)\n",
      "\n",
      "starting kafka ...\n",
      "[2021-05-05 17:44:35,269] INFO Updated cache from existing <empty> to latest FinalizedFeaturesAndEpoch(features=Features{}, epoch=0). (kafka.server.FinalizedFeatureCache)\n",
      "[2021-05-05 17:44:35,280] INFO [/config/changes-event-process-thread]: Starting (kafka.common.ZkNodeChangeNotificationListener$ChangeEventProcessThread)\n",
      "[2021-05-05 17:44:35,298] INFO [SocketServer listenerType=ZK_BROKER, nodeId=0] Starting socket server acceptors and processors (kafka.network.SocketServer)\n",
      "[2021-05-05 17:44:35,302] INFO [SocketServer listenerType=ZK_BROKER, nodeId=0] Started data-plane acceptor and processor(s) for endpoint : ListenerName(PLAINTEXT) (kafka.network.SocketServer)\n",
      "[2021-05-05 17:44:35,303] INFO [SocketServer listenerType=ZK_BROKER, nodeId=0] Started socket server acceptors and processors (kafka.network.SocketServer)\n",
      "[2021-05-05 17:44:35,306] INFO Kafka version: 3.0.0-SNAPSHOT (org.apache.kafka.common.utils.AppInfoParser)\n",
      "[2021-05-05 17:44:35,306] INFO Kafka commitId: 4607e78e7d3c3363 (org.apache.kafka.common.utils.AppInfoParser)\n",
      "[2021-05-05 17:44:35,306] INFO Kafka startTimeMs: 1620207875303 (org.apache.kafka.common.utils.AppInfoParser)\n",
      "[2021-05-05 17:44:35,307] INFO [KafkaServer id=0] started (kafka.server.KafkaServer)\n",
      "[2021-05-05 17:44:35,407] INFO [BrokerToControllerChannelManager broker=0 name=alterIsr]: Recorded new controller, from now on will use broker node-4.sg.4pd.io:9092 (id: 0 rack: null) (kafka.server.BrokerToControllerRequestThread)\n",
      "\n",
      "kafka started\n"
     ]
    }
   ],
   "source": [
    "# start zookeeper and kafka. if services already started. stop first\n",
    "# stop_kafka(delete_data=True)\n",
    "start_kafka()"
   ]
  },
  {
   "cell_type": "code",
   "execution_count": 4,
   "id": "878b2ece-299d-450d-875a-4859a8f9231e",
   "metadata": {},
   "outputs": [
    {
     "name": "stdout",
     "output_type": "stream",
     "text": [
      "647734 records sent, 129546.8 records/sec (126.51 MB/sec), 207.5 ms avg latency (window), 726.0 ms max latency (window), 207.5 ms avg latency, 726.0 ms max latency.\n",
      "1068396 records sent, 213679.2 records/sec (208.67 MB/sec), 151.2 ms avg latency (window), 355.0 ms max latency (window), 172.4 ms avg latency, 726.0 ms max latency.\n",
      "360556 records sent, 68979.5 records/sec (67.36 MB/sec), 118.0 ms avg latency (window), 4020.0 ms max latency (window), 163.0 ms avg latency, 4020.0 ms max latency.\n",
      "1120694 records sent, 224138.8 records/sec (218.89 MB/sec), 255.6 ms avg latency (window), 4036.0 ms max latency (window), 195.5 ms avg latency, 4036.0 ms max latency.\n",
      "956058 records sent, 142334.1 records/sec (139.00 MB/sec), 168.2 ms avg latency (window), 1846.0 ms max latency (window), 189.2 ms avg latency, 4036.0 ms max latency.\n",
      "1038376 records sent, 116318.6 records/sec (113.59 MB/sec), 203.7 ms avg latency (window), 4203.0 ms max latency (window), 192.1 ms avg latency, 4203.0 ms max latency.\n",
      "1038376 records sent, 123190.9 records/sec (120.30 MB/sec), 269.1 ms avg latency (window), 4228.0 ms max latency (window), 204.9 ms avg latency, 4228.0 ms max latency.\n",
      "973122 records sent, 194624.4 records/sec (190.06 MB/sec), 292.1 ms avg latency (window), 3985.0 ms max latency (window), 216.7 ms avg latency, 4228.0 ms max latency.\n",
      "351708 records sent, 70341.6 records/sec (68.69 MB/sec), 458.1 ms avg latency (window), 3484.0 ms max latency (window), 227.9 ms avg latency, 4228.0 ms max latency.\n",
      "578596 records sent, 115719.2 records/sec (113.01 MB/sec), 266.1 ms avg latency (window), 1462.0 ms max latency (window), 230.6 ms avg latency, 4228.0 ms max latency.\n",
      "421702 records sent, 84340.4 records/sec (82.36 MB/sec), 398.4 ms avg latency (window), 3252.0 ms max latency (window), 238.9 ms avg latency, 4228.0 ms max latency.\n",
      "1269846 records sent, 253969.2 records/sec (248.02 MB/sec), 117.0 ms avg latency (window), 1483.0 ms max latency (window), 223.2 ms avg latency, 4228.0 ms max latency.\n",
      "10000000 records sent, 143188.522008 records/sec (139.83 MB/sec), 220.87 ms avg latency, 4228.00 ms max latency, 131 ms 50th, 318 ms 95th, 3482 ms 99th, 4218 ms 99.9th.\n",
      "benchmark write done\n"
     ]
    }
   ],
   "source": [
    "# benchmark the write performance of kafka\n",
    "bench_write(num_records=10000000, record_size=1024)"
   ]
  },
  {
   "cell_type": "code",
   "execution_count": 5,
   "id": "1591f2df-b4e0-4a7a-a7dc-31df6be57079",
   "metadata": {
    "tags": []
   },
   "outputs": [
    {
     "name": "stdout",
     "output_type": "stream",
     "text": [
      "time, threadId, data.consumed.in.MB, MB.sec, data.consumed.in.nMsg, nMsg.sec, rebalance.time.ms, fetch.time.ms, fetch.MB.sec, fetch.nMsg.sec, windowMaxLatency, windowAvgLatency, maxLatency, avgLatency\n",
      "2021-05-05 17:46:18:040, 0, 0.0010, 0.0000, 1, 0.0331, 30069, 157, 0.0062, 6.3694, 30226.0000, 15113000.0000, 30226.0000, 15113000.0000\n",
      "2021-05-05 17:46:19:044, 0, 98.0684, 97.6767, 100422, 100020.9163, 0, 1004, 97.6767, 100020.9163, 24.0000, 4.9236, 30226.0000, 155.4184\n",
      "2021-05-05 17:46:20:527, 0, 198.9785, 68.0446, 203754, 69677.6804, 0, 1483, 68.0446, 69677.6804, 517.0000, 7.1231, 30226.0000, 80.2118\n",
      "2021-05-05 17:46:21:853, 0, 217.4941, 13.9635, 222714, 14298.6425, 0, 1326, 13.9635, 14298.6425, 533.0000, 34.8998, 30226.0000, 76.3543\n",
      "2021-05-05 17:46:23:247, 0, 239.7129, 15.9388, 245466, 16321.3773, 0, 1394, 15.9388, 16321.3773, 489.0000, 30.5730, 30226.0000, 72.1109\n",
      "2021-05-05 17:46:24:427, 0, 258.2285, 15.6912, 264426, 16067.7966, 0, 1180, 15.6912, 16067.7966, 415.0000, 31.0633, 30226.0000, 69.1676\n",
      "2021-05-05 17:46:25:817, 0, 272.1152, 9.9904, 278646, 10230.2158, 0, 1390, 9.9904, 10230.2158, 440.0000, 48.8017, 30226.0000, 68.1283\n",
      "2021-05-05 17:46:26:917, 0, 291.5566, 17.6740, 298554, 18098.1818, 0, 1100, 17.6740, 18098.1818, 656.0000, 27.5618, 30226.0000, 65.4233\n",
      "2021-05-05 17:46:28:284, 0, 311.9238, 14.8992, 319410, 15256.7666, 0, 1367, 14.8992, 15256.7666, 481.0000, 32.7200, 30226.0000, 63.2879\n",
      "2021-05-05 17:46:29:284, 0, 377.2168, 65.2930, 386270, 66860.0000, 0, 1000, 65.2930, 66860.0000, 130.0000, 7.4262, 30226.0000, 53.6187\n",
      "2021-05-05 17:46:30:291, 0, 478.5645, 100.6432, 490050, 103058.5899, 0, 1007, 100.6432, 103058.5899, 33.0000, 4.7915, 30226.0000, 43.2784\n",
      "2021-05-05 17:46:31:297, 0, 579.4746, 100.3083, 593382, 102715.7058, 0, 1006, 100.3083, 102715.7058, 14.0000, 4.8114, 30226.0000, 36.5797\n",
      "2021-05-05 17:46:32:299, 0, 685.0137, 105.3284, 701454, 107856.2874, 0, 1002, 105.3284, 107856.2874, 12.0000, 4.5757, 30226.0000, 31.6489\n",
      "2021-05-05 17:46:33:299, 0, 785.9238, 100.9102, 804786, 103332.0000, 0, 1000, 100.9102, 103332.0000, 33.0000, 4.7814, 30226.0000, 28.1992\n",
      "2021-05-05 17:46:34:304, 0, 886.8340, 100.4081, 908118, 102817.9104, 0, 1005, 100.4081, 102817.9104, 16.0000, 4.8106, 30226.0000, 25.5379\n",
      "2021-05-05 17:46:35:305, 0, 990.5215, 103.5839, 1014294, 106069.9301, 0, 1001, 103.5839, 106069.9301, 14.0000, 4.6522, 30226.0000, 23.3516\n",
      "2021-05-05 17:46:36:311, 0, 1091.7402, 100.6151, 1117942, 103029.8211, 0, 1006, 100.6151, 103029.8211, 37.0000, 4.8000, 30226.0000, 21.6316\n",
      "2021-05-05 17:46:37:311, 0, 1193.5762, 101.8359, 1222222, 104280.0000, 0, 1000, 101.8359, 104280.0000, 12.0000, 4.7494, 30226.0000, 20.1912\n",
      "2021-05-05 17:46:38:311, 0, 1288.0059, 94.4297, 1318918, 96696.0000, 0, 1000, 94.4297, 96696.0000, 35.0000, 5.1343, 30226.0000, 19.0873\n",
      "2021-05-05 17:46:39:311, 0, 1387.9902, 99.9844, 1421302, 102384.0000, 0, 1000, 99.9844, 102384.0000, 23.0000, 4.8348, 30226.0000, 18.0606\n",
      "2021-05-05 17:46:40:313, 0, 1493.5293, 105.3284, 1529374, 107856.2874, 0, 1002, 105.3284, 107856.2874, 11.0000, 4.5867, 30226.0000, 17.1085\n",
      "2021-05-05 17:46:41:320, 0, 1599.0684, 104.8054, 1637446, 107320.7547, 0, 1007, 104.8054, 107320.7547, 11.0000, 4.6055, 30226.0000, 16.2833\n",
      "2021-05-05 17:46:42:320, 0, 1693.9863, 94.9180, 1734642, 97196.0000, 0, 1000, 94.9180, 97196.0000, 25.0000, 5.0982, 30226.0000, 15.6566\n",
      "2021-05-05 17:46:43:325, 0, 1792.5566, 98.0799, 1835578, 100433.8308, 0, 1005, 98.0799, 100433.8308, 31.0000, 4.9310, 30226.0000, 15.0668\n",
      "2021-05-05 17:46:44:331, 0, 1890.6895, 97.5475, 1936066, 99888.6680, 0, 1006, 97.5475, 99888.6680, 26.0000, 4.9554, 30226.0000, 14.5420\n",
      "2021-05-05 17:46:45:333, 0, 1996.2285, 105.3284, 2044138, 107856.2874, 0, 1002, 105.3284, 107856.2874, 10.0000, 4.5901, 30226.0000, 14.0158\n",
      "2021-05-05 17:46:46:339, 0, 2096.5215, 99.6948, 2146838, 102087.4751, 0, 1006, 99.6948, 102087.4751, 36.0000, 4.8458, 30226.0000, 13.5772\n",
      "2021-05-05 17:46:47:357, 0, 2197.4316, 99.1259, 2250170, 101504.9116, 0, 1018, 99.1259, 101504.9116, 25.0000, 4.8801, 30226.0000, 13.1778\n",
      "2021-05-05 17:46:48:359, 0, 2301.1191, 103.4805, 2356346, 105964.0719, 0, 1002, 103.4805, 105964.0719, 18.0000, 4.6789, 30226.0000, 12.7948\n",
      "2021-05-05 17:46:49:368, 0, 2403.8809, 101.8451, 2461574, 104289.3954, 0, 1009, 101.8451, 104289.3954, 20.0000, 4.7494, 30226.0000, 12.4509\n",
      "2021-05-05 17:46:50:375, 0, 2504.7910, 100.2087, 2564906, 102613.7041, 0, 1007, 100.2087, 102613.7041, 12.0000, 4.8268, 30226.0000, 12.1437\n",
      "2021-05-05 17:46:51:375, 0, 2605.7012, 100.9102, 2668238, 103332.0000, 0, 1000, 100.9102, 103332.0000, 30.0000, 4.7965, 30226.0000, 11.8592\n",
      "2021-05-05 17:46:52:375, 0, 2703.3965, 97.6953, 2768278, 100040.0000, 0, 1000, 97.6953, 100040.0000, 33.0000, 4.9590, 30226.0000, 11.6098\n",
      "2021-05-05 17:46:53:381, 0, 2803.8184, 99.8229, 2871110, 102218.6879, 0, 1006, 99.8229, 102218.6879, 27.0000, 4.8505, 30226.0000, 11.3678\n",
      "2021-05-05 17:46:54:382, 0, 2907.5059, 103.5839, 2977286, 106069.9301, 0, 1001, 103.5839, 106069.9301, 25.0000, 4.6771, 30226.0000, 11.1292\n",
      "2021-05-05 17:46:55:384, 0, 3010.2676, 102.5566, 3082514, 105017.9641, 0, 1002, 102.5566, 105017.9641, 12.0000, 4.7221, 30226.0000, 10.9104\n",
      "2021-05-05 17:46:56:392, 0, 3109.6348, 98.5786, 3184266, 100944.4444, 0, 1008, 98.5786, 100944.4444, 36.0000, 4.9123, 30226.0000, 10.7188\n",
      "2021-05-05 17:46:57:392, 0, 3211.0332, 101.3984, 3288098, 103832.0000, 0, 1000, 101.3984, 103832.0000, 23.0000, 4.7804, 30226.0000, 10.5312\n",
      "2021-05-05 17:46:58:397, 0, 3314.2324, 102.6858, 3393774, 105150.2488, 0, 1005, 102.6858, 105150.2488, 22.0000, 4.7202, 30226.0000, 10.3503\n",
      "2021-05-05 17:46:59:403, 0, 3415.1426, 100.3083, 3497106, 102715.7058, 0, 1006, 100.3083, 102715.7058, 11.0000, 4.8245, 30226.0000, 10.1870\n",
      "2021-05-05 17:47:00:405, 0, 3510.4980, 95.1651, 3594750, 97449.1018, 0, 1002, 95.1651, 97449.1018, 47.0000, 5.0893, 30226.0000, 10.0486\n",
      "2021-05-05 17:47:01:411, 0, 3609.5566, 98.4678, 3696186, 100831.0139, 0, 1006, 98.4678, 100831.0139, 32.0000, 4.9193, 30226.0000, 9.9078\n",
      "2021-05-05 17:47:02:412, 0, 3703.9863, 94.3354, 3792882, 96599.4006, 0, 1001, 94.3354, 96599.4006, 42.0000, 5.1282, 30226.0000, 9.7859\n",
      "2021-05-05 17:47:03:421, 0, 3804.8965, 100.0101, 3896214, 102410.3072, 0, 1009, 100.0101, 102410.3072, 13.0000, 4.8446, 30226.0000, 9.6549\n",
      "2021-05-05 17:47:04:425, 0, 3910.4355, 105.1186, 4004286, 107641.4343, 0, 1004, 105.1186, 107641.4343, 14.0000, 4.6027, 30226.0000, 9.5185\n",
      "2021-05-05 17:47:05:428, 0, 4000.2363, 89.5322, 4096242, 91680.9571, 0, 1003, 89.5322, 91680.9571, 25.0000, 5.4158, 30226.0000, 9.4264\n",
      "2021-05-05 17:47:06:437, 0, 4094.9746, 93.8932, 4193254, 96146.6799, 0, 1009, 93.8932, 96146.6799, 36.0000, 5.1513, 30226.0000, 9.3275\n",
      "2021-05-05 17:47:07:440, 0, 4180.1465, 84.9171, 4280470, 86955.1346, 0, 1003, 84.9171, 86955.1346, 43.0000, 5.7090, 30226.0000, 9.2538\n",
      "2021-05-05 17:47:08:446, 0, 4279.2051, 98.4678, 4381906, 100831.0139, 0, 1006, 98.4678, 100831.0139, 31.0000, 4.9188, 30226.0000, 9.1534\n",
      "2021-05-05 17:47:09:449, 0, 4381.0410, 101.5313, 4486186, 103968.0957, 0, 1003, 101.5313, 103968.0957, 17.0000, 4.7658, 30226.0000, 9.0515\n",
      "2021-05-05 17:47:10:449, 0, 4475.4707, 94.4297, 4582882, 96696.0000, 0, 1000, 94.4297, 96696.0000, 33.0000, 5.1230, 30226.0000, 8.9686\n",
      "2021-05-05 17:47:11:450, 0, 4576.3809, 100.8093, 4686214, 103228.7712, 0, 1001, 100.8093, 103228.7712, 25.0000, 4.8008, 30226.0000, 8.8767\n",
      "2021-05-05 17:47:12:455, 0, 4672.6621, 95.8022, 4784806, 98101.4925, 0, 1005, 95.8022, 98101.4925, 41.0000, 5.0467, 30226.0000, 8.7978\n",
      "2021-05-05 17:47:13:455, 0, 4771.7207, 99.0586, 4886242, 101436.0000, 0, 1000, 99.0586, 101436.0000, 14.0000, 4.8892, 30226.0000, 8.7166\n",
      "2021-05-05 17:47:14:459, 0, 4871.7051, 99.5860, 4988626, 101976.0956, 0, 1004, 99.5860, 101976.0956, 27.0000, 4.8554, 30226.0000, 8.6374\n",
      "benchmark read done\n"
     ]
    }
   ],
   "source": [
    "# benchmark the read performance of kafka\n",
    "bench_read(num_records=5000000)"
   ]
  },
  {
   "cell_type": "code",
   "execution_count": 6,
   "id": "f6769358-75a4-4aa1-92ab-826b6c96d7e4",
   "metadata": {},
   "outputs": [
    {
     "name": "stdout",
     "output_type": "stream",
     "text": [
      "stopping kafka ...\n",
      "kafka stopped\n",
      "data deleted\n"
     ]
    }
   ],
   "source": [
    "# stop zookeeper and kafka service, and delete all the data\n",
    "stop_kafka(delete_data=True)"
   ]
  },
  {
   "cell_type": "code",
   "execution_count": 7,
   "id": "05a79146-9990-4ee0-b244-8e45b9e77b8f",
   "metadata": {},
   "outputs": [],
   "source": [
    "# ***** benchmark for Pafka *****"
   ]
  },
  {
   "cell_type": "code",
   "execution_count": 8,
   "id": "6a86dd27-3577-4d30-a597-eb14e296bf61",
   "metadata": {},
   "outputs": [
    {
     "name": "stdout",
     "output_type": "stream",
     "text": [
      "starting zookeeper ...\n",
      "[2021-05-05 17:47:19,571] INFO maxSessionTimeout set to 60000 (org.apache.zookeeper.server.ZooKeeperServer)\n",
      "[2021-05-05 17:47:19,571] INFO Created server with tickTime 3000 minSessionTimeout 6000 maxSessionTimeout 60000 datadir /mnt/mem/zookeeper/version-2 snapdir /mnt/mem/zookeeper/version-2 (org.apache.zookeeper.server.ZooKeeperServer)\n",
      "[2021-05-05 17:47:19,577] INFO Using org.apache.zookeeper.server.NIOServerCnxnFactory as server connection factory (org.apache.zookeeper.server.ServerCnxnFactory)\n",
      "[2021-05-05 17:47:19,579] INFO Configuring NIO connection handler with 10s sessionless connection timeout, 6 selector thread(s), 192 worker threads, and 64 kB direct buffers. (org.apache.zookeeper.server.NIOServerCnxnFactory)\n",
      "[2021-05-05 17:47:19,581] INFO binding to port 0.0.0.0/0.0.0.0:2181 (org.apache.zookeeper.server.NIOServerCnxnFactory)\n",
      "[2021-05-05 17:47:19,591] INFO zookeeper.snapshotSizeFactor = 0.33 (org.apache.zookeeper.server.ZKDatabase)\n",
      "[2021-05-05 17:47:19,593] INFO Snapshotting: 0x0 to /mnt/mem/zookeeper/version-2/snapshot.0 (org.apache.zookeeper.server.persistence.FileTxnSnapLog)\n",
      "[2021-05-05 17:47:19,595] INFO Snapshotting: 0x0 to /mnt/mem/zookeeper/version-2/snapshot.0 (org.apache.zookeeper.server.persistence.FileTxnSnapLog)\n",
      "[2021-05-05 17:47:19,611] INFO PrepRequestProcessor (sid:0) started, reconfigEnabled=false (org.apache.zookeeper.server.PrepRequestProcessor)\n",
      "[2021-05-05 17:47:19,614] INFO Using checkIntervalMs=60000 maxPerMinute=10000 (org.apache.zookeeper.server.ContainerManager)\n",
      "\n",
      "starting pafka ...\n",
      "[2021-05-05 17:48:13,988] INFO [ExpirationReaper-0-AlterAcls]: Starting (kafka.server.DelayedOperationPurgatory$ExpiredOperationReaper)\n",
      "[2021-05-05 17:48:14,005] INFO [/config/changes-event-process-thread]: Starting (kafka.common.ZkNodeChangeNotificationListener$ChangeEventProcessThread)\n",
      "[2021-05-05 17:48:14,023] INFO [SocketServer listenerType=ZK_BROKER, nodeId=0] Starting socket server acceptors and processors (kafka.network.SocketServer)\n",
      "[2021-05-05 17:48:14,027] INFO [SocketServer listenerType=ZK_BROKER, nodeId=0] Started data-plane acceptor and processor(s) for endpoint : ListenerName(PLAINTEXT) (kafka.network.SocketServer)\n",
      "[2021-05-05 17:48:14,028] INFO [SocketServer listenerType=ZK_BROKER, nodeId=0] Started socket server acceptors and processors (kafka.network.SocketServer)\n",
      "[2021-05-05 17:48:14,029] INFO Kafka version: 3.0.0-SNAPSHOT (org.apache.kafka.common.utils.AppInfoParser)\n",
      "[2021-05-05 17:48:14,029] INFO Kafka commitId: 4607e78e7d3c3363 (org.apache.kafka.common.utils.AppInfoParser)\n",
      "[2021-05-05 17:48:14,029] INFO Kafka startTimeMs: 1620208094028 (org.apache.kafka.common.utils.AppInfoParser)\n",
      "[2021-05-05 17:48:14,030] INFO [KafkaServer id=0] started (kafka.server.KafkaServer)\n",
      "[2021-05-05 17:48:14,207] INFO [BrokerToControllerChannelManager broker=0 name=alterIsr]: Recorded new controller, from now on will use broker node-4.sg.4pd.io:9092 (id: 0 rack: null) (kafka.server.BrokerToControllerRequestThread)\n",
      "\n",
      "pafka started\n"
     ]
    }
   ],
   "source": [
    "# start pafka with PMem. if service already started. stop first\n",
    "# stop_pafka(delete_data=True)\n",
    "start_pafka()"
   ]
  },
  {
   "cell_type": "code",
   "execution_count": 9,
   "id": "9aad2066-6428-498f-b9ba-ebd7ac4a5d6c",
   "metadata": {},
   "outputs": [
    {
     "name": "stdout",
     "output_type": "stream",
     "text": [
      "721781 records sent, 144356.2 records/sec (140.97 MB/sec), 192.4 ms avg latency (window), 580.0 ms max latency (window), 192.4 ms avg latency, 580.0 ms max latency.\n",
      "1264790 records sent, 252958.0 records/sec (247.03 MB/sec), 127.6 ms avg latency (window), 178.0 ms max latency (window), 151.1 ms avg latency, 580.0 ms max latency.\n",
      "1457392 records sent, 291478.4 records/sec (284.65 MB/sec), 109.7 ms avg latency (window), 129.0 ms max latency (window), 133.6 ms avg latency, 580.0 ms max latency.\n",
      "1522369 records sent, 304473.8 records/sec (297.34 MB/sec), 104.6 ms avg latency (window), 122.0 ms max latency (window), 124.7 ms avg latency, 580.0 ms max latency.\n",
      "1607453 records sent, 321490.6 records/sec (313.96 MB/sec), 98.8 ms avg latency (window), 124.0 ms max latency (window), 118.4 ms avg latency, 580.0 ms max latency.\n",
      "1556458 records sent, 311291.6 records/sec (304.00 MB/sec), 101.5 ms avg latency (window), 123.0 ms max latency (window), 115.2 ms avg latency, 580.0 ms max latency.\n",
      "1527386 records sent, 305477.2 records/sec (298.32 MB/sec), 104.3 ms avg latency (window), 126.0 ms max latency (window), 113.4 ms avg latency, 580.0 ms max latency.\n",
      "10000000 records sent, 276985.292081 records/sec (270.49 MB/sec), 112.97 ms avg latency, 580.00 ms max latency, 105 ms 50th, 166 ms 95th, 229 ms 99th, 402 ms 99.9th.\n",
      "benchmark write done\n"
     ]
    }
   ],
   "source": [
    "# benchmark the write performance of pafka\n",
    "bench_write(num_records=10000000, record_size=1024)"
   ]
  },
  {
   "cell_type": "code",
   "execution_count": 10,
   "id": "12743b59-f2b1-4bdd-95d0-7e0e14d135fb",
   "metadata": {
    "tags": []
   },
   "outputs": [
    {
     "name": "stdout",
     "output_type": "stream",
     "text": [
      "time, threadId, data.consumed.in.MB, MB.sec, data.consumed.in.nMsg, nMsg.sec, rebalance.time.ms, fetch.time.ms, fetch.MB.sec, fetch.nMsg.sec, windowMaxLatency, windowAvgLatency, maxLatency, avgLatency\n",
      "2021-05-05 17:49:02:383, 0, 0.0010, 0.0001, 1, 0.0995, 9964, 89, 0.0110, 11.2360, 10053.0000, 5026500.0000, 10053.0000, 5026500.0000\n",
      "2021-05-05 17:49:03:383, 0, 289.8057, 289.8047, 296761, 296760.0000, 0, 1000, 289.8047, 296760.0000, 17.0000, 1.6528, 10053.0000, 18.5906\n",
      "2021-05-05 17:49:04:383, 0, 705.0439, 415.2383, 721965, 425204.0000, 0, 1000, 415.2383, 425204.0000, 11.0000, 1.1512, 10053.0000, 8.3196\n",
      "2021-05-05 17:49:05:383, 0, 1208.4893, 503.4453, 1237493, 515528.0000, 0, 1000, 503.4453, 515528.0000, 7.0000, 0.9459, 10053.0000, 5.2478\n",
      "2021-05-05 17:49:06:385, 0, 1704.7080, 495.2283, 1745621, 507113.7725, 0, 1002, 495.2283, 507113.7725, 5.0000, 0.9657, 10053.0000, 4.0013\n",
      "2021-05-05 17:49:07:385, 0, 2183.6455, 478.9375, 2236053, 490432.0000, 0, 1000, 478.9375, 490432.0000, 6.0000, 0.9981, 10053.0000, 3.3426\n",
      "2021-05-05 17:49:08:385, 0, 2676.1611, 492.5156, 2740389, 504336.0000, 0, 1000, 492.5156, 504336.0000, 7.0000, 0.9725, 10053.0000, 2.9064\n",
      "2021-05-05 17:49:09:385, 0, 3158.8018, 482.6406, 3234613, 494224.0000, 0, 1000, 482.6406, 494224.0000, 6.0000, 0.9909, 10053.0000, 2.6138\n",
      "2021-05-05 17:49:10:385, 0, 3683.7197, 524.9180, 3772129, 537516.0000, 0, 1000, 524.9180, 537516.0000, 7.0000, 0.9126, 10053.0000, 2.3714\n",
      "2021-05-05 17:49:11:385, 0, 4212.6494, 528.9297, 4313753, 541624.0000, 0, 1000, 528.9297, 541624.0000, 7.0000, 0.9061, 10053.0000, 2.1874\n",
      "2021-05-05 17:49:12:386, 0, 4713.4971, 500.3473, 4826621, 512355.6444, 0, 1001, 500.3473, 512355.6444, 7.0000, 0.9561, 10053.0000, 2.0565\n",
      "benchmark read done\n"
     ]
    }
   ],
   "source": [
    "# benchmark the read performance of pafka\n",
    "bench_read(num_records=5000000)"
   ]
  },
  {
   "cell_type": "code",
   "execution_count": 11,
   "id": "a5e43504-8864-4fe3-a5eb-a1922343e7f8",
   "metadata": {},
   "outputs": [
    {
     "name": "stdout",
     "output_type": "stream",
     "text": [
      "stopping pafka ...\n",
      "pafka stopped\n",
      "data deleted\n"
     ]
    }
   ],
   "source": [
    "# stop zookeeper and kafka service\n",
    "stop_pafka(delete_data=True)"
   ]
  }
 ],
 "metadata": {
  "kernelspec": {
   "display_name": "Python 3",
   "language": "python",
   "name": "python3"
  },
  "language_info": {
   "codemirror_mode": {
    "name": "ipython",
    "version": 3
   },
   "file_extension": ".py",
   "mimetype": "text/x-python",
   "name": "python",
   "nbconvert_exporter": "python",
   "pygments_lexer": "ipython3",
   "version": "3.6.8"
  }
 },
 "nbformat": 4,
 "nbformat_minor": 5
}
