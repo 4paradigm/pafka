{
 "cells": [
  {
   "cell_type": "raw",
   "id": "053fd886-b7ce-4a58-a6a3-2c7b416d712b",
   "metadata": {},
   "source": [
    "# Licensed to the Apache Software Foundation (ASF) under one or more\n",
    "# contributor license agreements.  See the NOTICE file distributed with\n",
    "# this work for additional information regarding copyright ownership.\n",
    "# The ASF licenses this file to You under the Apache License, Version 2.0\n",
    "# (the \"License\"); you may not use this file except in compliance with\n",
    "# the License.  You may obtain a copy of the License at\n",
    "#\n",
    "#    http://www.apache.org/licenses/LICENSE-2.0\n",
    "#\n",
    "# Unless required by applicable law or agreed to in writing, software\n",
    "# distributed under the License is distributed on an \"AS IS\" BASIS,\n",
    "# WITHOUT WARRANTIES OR CONDITIONS OF ANY KIND, either express or implied.\n",
    "# See the License for the specific language governing permissions and\n",
    "# limitations under the License."
   ]
  },
  {
   "cell_type": "code",
   "execution_count": null,
   "id": "ecb01277-11b2-4b41-a973-f7543f509334",
   "metadata": {},
   "outputs": [],
   "source": [
    "from command import start_kafka, start_pafka, stop_kafka, stop_pafka, bench_producer, bench_consumer"
   ]
  },
  {
   "cell_type": "code",
   "execution_count": 2,
   "id": "dbff322d-5acb-4768-b1f1-45c54f8f44af",
   "metadata": {},
   "outputs": [],
   "source": [
    "# ***** benchmark for Kafka *****"
   ]
  },
  {
   "cell_type": "code",
   "execution_count": 3,
   "id": "e4fe7b7c-a481-4ebf-9275-dc29e61b6d1d",
   "metadata": {},
   "outputs": [
    {
     "name": "stdout",
     "output_type": "stream",
     "text": [
      "starting zookeeper ...\n",
      "[2021-05-07 11:34:24,811] INFO maxSessionTimeout set to 60000 (org.apache.zookeeper.server.ZooKeeperServer)\n",
      "[2021-05-07 11:34:24,811] INFO Created server with tickTime 3000 minSessionTimeout 6000 maxSessionTimeout 60000 datadir /mnt/hdd/zookeeper/version-2 snapdir /mnt/hdd/zookeeper/version-2 (org.apache.zookeeper.server.ZooKeeperServer)\n",
      "[2021-05-07 11:34:24,817] INFO Using org.apache.zookeeper.server.NIOServerCnxnFactory as server connection factory (org.apache.zookeeper.server.ServerCnxnFactory)\n",
      "[2021-05-07 11:34:24,819] INFO Configuring NIO connection handler with 10s sessionless connection timeout, 6 selector thread(s), 192 worker threads, and 64 kB direct buffers. (org.apache.zookeeper.server.NIOServerCnxnFactory)\n",
      "[2021-05-07 11:34:24,822] INFO binding to port 0.0.0.0/0.0.0.0:2181 (org.apache.zookeeper.server.NIOServerCnxnFactory)\n",
      "[2021-05-07 11:34:24,832] INFO zookeeper.snapshotSizeFactor = 0.33 (org.apache.zookeeper.server.ZKDatabase)\n",
      "[2021-05-07 11:34:24,835] INFO Snapshotting: 0x0 to /mnt/hdd/zookeeper/version-2/snapshot.0 (org.apache.zookeeper.server.persistence.FileTxnSnapLog)\n",
      "[2021-05-07 11:34:24,836] INFO Snapshotting: 0x0 to /mnt/hdd/zookeeper/version-2/snapshot.0 (org.apache.zookeeper.server.persistence.FileTxnSnapLog)\n",
      "[2021-05-07 11:34:24,845] INFO PrepRequestProcessor (sid:0) started, reconfigEnabled=false (org.apache.zookeeper.server.PrepRequestProcessor)\n",
      "[2021-05-07 11:34:24,847] INFO Using checkIntervalMs=60000 maxPerMinute=10000 (org.apache.zookeeper.server.ContainerManager)\n",
      "\n",
      "starting kafka ...\n",
      "[2021-05-07 11:34:28,387] INFO [ExpirationReaper-0-AlterAcls]: Starting (kafka.server.DelayedOperationPurgatory$ExpiredOperationReaper)\n",
      "[2021-05-07 11:34:28,404] INFO [/config/changes-event-process-thread]: Starting (kafka.common.ZkNodeChangeNotificationListener$ChangeEventProcessThread)\n",
      "[2021-05-07 11:34:28,421] INFO [SocketServer listenerType=ZK_BROKER, nodeId=0] Starting socket server acceptors and processors (kafka.network.SocketServer)\n",
      "[2021-05-07 11:34:28,426] INFO [SocketServer listenerType=ZK_BROKER, nodeId=0] Started data-plane acceptor and processor(s) for endpoint : ListenerName(PLAINTEXT) (kafka.network.SocketServer)\n",
      "[2021-05-07 11:34:28,426] INFO [SocketServer listenerType=ZK_BROKER, nodeId=0] Started socket server acceptors and processors (kafka.network.SocketServer)\n",
      "[2021-05-07 11:34:28,429] INFO Kafka version: 3.0.0-SNAPSHOT (org.apache.kafka.common.utils.AppInfoParser)\n",
      "[2021-05-07 11:34:28,429] INFO Kafka commitId: 7fbfc08e29f9480b (org.apache.kafka.common.utils.AppInfoParser)\n",
      "[2021-05-07 11:34:28,429] INFO Kafka startTimeMs: 1620358468426 (org.apache.kafka.common.utils.AppInfoParser)\n",
      "[2021-05-07 11:34:28,430] INFO [KafkaServer id=0] started (kafka.server.KafkaServer)\n",
      "[2021-05-07 11:34:28,532] INFO [BrokerToControllerChannelManager broker=0 name=alterIsr]: Recorded new controller, from now on will use broker node-4.sg.4pd.io:9092 (id: 0 rack: null) (kafka.server.BrokerToControllerRequestThread)\n",
      "\n",
      "kafka started\n"
     ]
    }
   ],
   "source": [
    "# Environment initialization, start zookeeper and kafka\n",
    "start_kafka()"
   ]
  },
  {
   "cell_type": "code",
   "execution_count": 4,
   "id": "878b2ece-299d-450d-875a-4859a8f9231e",
   "metadata": {},
   "outputs": [
    {
     "name": "stdout",
     "output_type": "stream",
     "text": [
      "665383 records sent, 133076.6 records/sec (129.96 MB/sec), 204.0 ms avg latency (window), 671.0 ms max latency (window), 204.0 ms avg latency, 671.0 ms max latency.\n",
      "1056704 records sent, 211340.8 records/sec (206.39 MB/sec), 152.7 ms avg latency (window), 290.0 ms max latency (window), 172.5 ms avg latency, 671.0 ms max latency.\n",
      "354710 records sent, 66825.5 records/sec (65.26 MB/sec), 134.2 ms avg latency (window), 3962.0 ms max latency (window), 166.0 ms avg latency, 3962.0 ms max latency.\n",
      "1038376 records sent, 143402.3 records/sec (140.04 MB/sec), 255.0 ms avg latency (window), 3985.0 ms max latency (window), 195.7 ms avg latency, 3985.0 ms max latency.\n",
      "1047224 records sent, 208943.3 records/sec (204.05 MB/sec), 223.7 ms avg latency (window), 3001.0 ms max latency (window), 202.7 ms avg latency, 3985.0 ms max latency.\n",
      "898388 records sent, 167079.8 records/sec (163.16 MB/sec), 147.4 ms avg latency (window), 1975.0 ms max latency (window), 192.9 ms avg latency, 3985.0 ms max latency.\n",
      "199712 records sent, 39942.4 records/sec (39.01 MB/sec), 1105.1 ms avg latency (window), 4288.0 ms max latency (window), 227.5 ms avg latency, 4288.0 ms max latency.\n",
      "969804 records sent, 109458.7 records/sec (106.89 MB/sec), 146.6 ms avg latency (window), 4587.0 ms max latency (window), 214.9 ms avg latency, 4587.0 ms max latency.\n",
      "989080 records sent, 197816.0 records/sec (193.18 MB/sec), 307.2 ms avg latency (window), 4590.0 ms max latency (window), 227.6 ms avg latency, 4590.0 ms max latency.\n",
      "480794 records sent, 96158.8 records/sec (93.91 MB/sec), 335.1 ms avg latency (window), 2943.0 ms max latency (window), 234.3 ms avg latency, 4590.0 ms max latency.\n",
      "606878 records sent, 76231.4 records/sec (74.44 MB/sec), 246.7 ms avg latency (window), 3451.0 ms max latency (window), 235.2 ms avg latency, 4590.0 ms max latency.\n",
      "816070 records sent, 163214.0 records/sec (159.39 MB/sec), 328.0 ms avg latency (window), 3463.0 ms max latency (window), 243.5 ms avg latency, 4590.0 ms max latency.\n",
      "10000000 records sent, 135184.459195 records/sec (132.02 MB/sec), 235.59 ms avg latency, 4590.00 ms max latency, 143 ms 50th, 231 ms 95th, 3457 ms 99th, 4586 ms 99.9th.\n",
      "Benchmark producer done\n"
     ]
    }
   ],
   "source": [
    "# benchmark the producer performance of kafka\n",
    "bench_producer(num_records=10000000, record_size=1024)"
   ]
  },
  {
   "cell_type": "code",
   "execution_count": 5,
   "id": "1591f2df-b4e0-4a7a-a7dc-31df6be57079",
   "metadata": {
    "tags": []
   },
   "outputs": [
    {
     "name": "stdout",
     "output_type": "stream",
     "text": [
      "time, threadId, data.consumed.in.MB, MB.sec, data.consumed.in.nMsg, nMsg.sec, rebalance.time.ms, fetch.time.ms, fetch.MB.sec, fetch.nMsg.sec, windowMaxLatency, windowAvgLatency, maxLatency, avgLatency\n",
      "2021-05-07 11:36:25:671, 0, 60.2197, 60.2197, 61665, 61665.0000, 234, 766, 78.6158, 80502.6110, 265.0000, 8.0352, 265.0000, 8.0352\n",
      "2021-05-07 11:36:26:678, 0, 155.5752, 94.6926, 159309, 96965.2433, 0, 1007, 94.6926, 96965.2433, 33.0000, 5.0942, 265.0000, 6.2326\n",
      "2021-05-07 11:36:27:685, 0, 250.9307, 94.6926, 256953, 96965.2433, 0, 1007, 94.6926, 96965.2433, 16.0000, 5.0889, 265.0000, 5.7980\n",
      "2021-05-07 11:36:28:690, 0, 346.2861, 94.8811, 354597, 97158.2090, 0, 1005, 94.8811, 97158.2090, 24.0000, 5.0802, 265.0000, 5.6003\n",
      "2021-05-07 11:36:29:690, 0, 445.3447, 99.0586, 456033, 101436.0000, 0, 1000, 99.0586, 101436.0000, 13.0000, 4.8687, 265.0000, 5.4376\n",
      "2021-05-07 11:36:30:693, 0, 535.1455, 89.5322, 547989, 91680.9571, 0, 1003, 89.5322, 91680.9571, 24.0000, 5.3954, 265.0000, 5.4305\n",
      "2021-05-07 11:36:31:693, 0, 628.6494, 93.5039, 643737, 95748.0000, 0, 1000, 93.5039, 95748.0000, 15.0000, 5.1569, 265.0000, 5.3898\n",
      "2021-05-07 11:36:32:693, 0, 714.3096, 85.6602, 731453, 87716.0000, 0, 1000, 85.6602, 87716.0000, 39.0000, 5.6528, 265.0000, 5.4214\n",
      "2021-05-07 11:36:33:693, 0, 812.8799, 98.5703, 832389, 100936.0000, 0, 1000, 98.5703, 100936.0000, 13.0000, 4.9006, 265.0000, 5.3582\n",
      "2021-05-07 11:36:34:700, 0, 906.3838, 92.8539, 928137, 95082.4230, 0, 1007, 92.8539, 95082.4230, 14.0000, 5.1820, 265.0000, 5.3400\n",
      "2021-05-07 11:36:35:705, 0, 998.0361, 91.1964, 1021989, 93385.0746, 0, 1005, 91.1964, 93385.0746, 31.0000, 5.3021, 265.0000, 5.3365\n",
      "2021-05-07 11:36:36:705, 0, 1094.1885, 96.1523, 1120449, 98460.0000, 0, 1000, 96.1523, 98460.0000, 38.0000, 5.0156, 265.0000, 5.3083\n",
      "2021-05-07 11:36:37:713, 0, 1186.2783, 91.3590, 1214749, 93551.5873, 0, 1008, 91.3590, 93551.5873, 27.0000, 5.2945, 265.0000, 5.3073\n",
      "2021-05-07 11:36:38:715, 0, 1282.5596, 96.0891, 1313341, 98395.2096, 0, 1002, 96.0891, 98395.2096, 12.0000, 5.0267, 265.0000, 5.2862\n",
      "2021-05-07 11:36:39:717, 0, 1381.6182, 98.8609, 1414777, 101233.5329, 0, 1002, 98.8609, 101233.5329, 12.0000, 4.8935, 265.0000, 5.2580\n",
      "2021-05-07 11:36:40:722, 0, 1471.4189, 89.3540, 1506733, 91498.5075, 0, 1005, 89.3540, 91498.5075, 34.0000, 5.3990, 265.0000, 5.2666\n",
      "2021-05-07 11:36:41:727, 0, 1565.8486, 93.9599, 1603429, 96214.9254, 0, 1005, 93.9599, 96214.9254, 15.0000, 5.1435, 265.0000, 5.2592\n",
      "2021-05-07 11:36:42:727, 0, 1664.9072, 99.0586, 1704865, 101436.0000, 0, 1000, 99.0586, 101436.0000, 15.0000, 4.8877, 265.0000, 5.2371\n",
      "2021-05-07 11:36:43:735, 0, 1763.0400, 97.3540, 1805353, 99690.4762, 0, 1008, 97.3540, 99690.4762, 11.0000, 4.9664, 265.0000, 5.2220\n",
      "2021-05-07 11:36:44:736, 0, 1855.6182, 92.4856, 1900153, 94705.2947, 0, 1001, 92.4856, 94705.2947, 17.0000, 5.2208, 265.0000, 5.2220\n",
      "2021-05-07 11:36:45:740, 0, 1950.0479, 94.0535, 1996849, 96310.7570, 0, 1004, 94.0535, 96310.7570, 24.0000, 5.1404, 265.0000, 5.2180\n",
      "2000192 records received, 94813.80 records/sec (92.59 MB/sec), 5.22 ms avg latency, 265.00 ms max latency\n",
      "Benchmark consumer done\n"
     ]
    }
   ],
   "source": [
    "# benchmark the consumer performance of kafka\n",
    "bench_consumer(num_records=2000000)"
   ]
  },
  {
   "cell_type": "code",
   "execution_count": 6,
   "id": "f6769358-75a4-4aa1-92ab-826b6c96d7e4",
   "metadata": {},
   "outputs": [
    {
     "name": "stdout",
     "output_type": "stream",
     "text": [
      "stopping kafka ...\n",
      "kafka stopped\n",
      "data deleted\n"
     ]
    }
   ],
   "source": [
    "# stop zookeeper and kafka service, and delete all the data\n",
    "stop_kafka(delete_data=True)"
   ]
  },
  {
   "cell_type": "code",
   "execution_count": 7,
   "id": "05a79146-9990-4ee0-b244-8e45b9e77b8f",
   "metadata": {},
   "outputs": [],
   "source": [
    "# ***** benchmark for Pafka *****"
   ]
  },
  {
   "cell_type": "code",
   "execution_count": 8,
   "id": "6a86dd27-3577-4d30-a597-eb14e296bf61",
   "metadata": {},
   "outputs": [
    {
     "name": "stdout",
     "output_type": "stream",
     "text": [
      "starting zookeeper ...\n",
      "[2021-05-07 11:36:50,888] INFO maxSessionTimeout set to 60000 (org.apache.zookeeper.server.ZooKeeperServer)\n",
      "[2021-05-07 11:36:50,888] INFO Created server with tickTime 3000 minSessionTimeout 6000 maxSessionTimeout 60000 datadir /mnt/mem/zookeeper/version-2 snapdir /mnt/mem/zookeeper/version-2 (org.apache.zookeeper.server.ZooKeeperServer)\n",
      "[2021-05-07 11:36:50,894] INFO Using org.apache.zookeeper.server.NIOServerCnxnFactory as server connection factory (org.apache.zookeeper.server.ServerCnxnFactory)\n",
      "[2021-05-07 11:36:50,896] INFO Configuring NIO connection handler with 10s sessionless connection timeout, 6 selector thread(s), 192 worker threads, and 64 kB direct buffers. (org.apache.zookeeper.server.NIOServerCnxnFactory)\n",
      "[2021-05-07 11:36:50,898] INFO binding to port 0.0.0.0/0.0.0.0:2181 (org.apache.zookeeper.server.NIOServerCnxnFactory)\n",
      "[2021-05-07 11:36:50,908] INFO zookeeper.snapshotSizeFactor = 0.33 (org.apache.zookeeper.server.ZKDatabase)\n",
      "[2021-05-07 11:36:50,911] INFO Snapshotting: 0x0 to /mnt/mem/zookeeper/version-2/snapshot.0 (org.apache.zookeeper.server.persistence.FileTxnSnapLog)\n",
      "[2021-05-07 11:36:50,912] INFO Snapshotting: 0x0 to /mnt/mem/zookeeper/version-2/snapshot.0 (org.apache.zookeeper.server.persistence.FileTxnSnapLog)\n",
      "[2021-05-07 11:36:50,928] INFO PrepRequestProcessor (sid:0) started, reconfigEnabled=false (org.apache.zookeeper.server.PrepRequestProcessor)\n",
      "[2021-05-07 11:36:50,931] INFO Using checkIntervalMs=60000 maxPerMinute=10000 (org.apache.zookeeper.server.ContainerManager)\n",
      "\n",
      "starting pafka ...\n",
      "[2021-05-07 11:37:08,730] INFO [ExpirationReaper-0-AlterAcls]: Starting (kafka.server.DelayedOperationPurgatory$ExpiredOperationReaper)\n",
      "[2021-05-07 11:37:08,756] INFO [/config/changes-event-process-thread]: Starting (kafka.common.ZkNodeChangeNotificationListener$ChangeEventProcessThread)\n",
      "[2021-05-07 11:37:08,772] INFO [SocketServer listenerType=ZK_BROKER, nodeId=0] Starting socket server acceptors and processors (kafka.network.SocketServer)\n",
      "[2021-05-07 11:37:08,777] INFO [SocketServer listenerType=ZK_BROKER, nodeId=0] Started data-plane acceptor and processor(s) for endpoint : ListenerName(PLAINTEXT) (kafka.network.SocketServer)\n",
      "[2021-05-07 11:37:08,777] INFO [SocketServer listenerType=ZK_BROKER, nodeId=0] Started socket server acceptors and processors (kafka.network.SocketServer)\n",
      "[2021-05-07 11:37:08,779] INFO Kafka version: 3.0.0-SNAPSHOT (org.apache.kafka.common.utils.AppInfoParser)\n",
      "[2021-05-07 11:37:08,779] INFO Kafka commitId: 7fbfc08e29f9480b (org.apache.kafka.common.utils.AppInfoParser)\n",
      "[2021-05-07 11:37:08,779] INFO Kafka startTimeMs: 1620358628777 (org.apache.kafka.common.utils.AppInfoParser)\n",
      "[2021-05-07 11:37:08,780] INFO [KafkaServer id=0] started (kafka.server.KafkaServer)\n",
      "[2021-05-07 11:37:08,946] INFO [BrokerToControllerChannelManager broker=0 name=alterIsr]: Recorded new controller, from now on will use broker node-4.sg.4pd.io:9092 (id: 0 rack: null) (kafka.server.BrokerToControllerRequestThread)\n",
      "\n",
      "pafka started\n"
     ]
    }
   ],
   "source": [
    "# start pafka with PMem. if service already started. stop first\n",
    "# stop_pafka(delete_data=True)\n",
    "start_pafka()"
   ]
  },
  {
   "cell_type": "code",
   "execution_count": 9,
   "id": "9aad2066-6428-498f-b9ba-ebd7ac4a5d6c",
   "metadata": {},
   "outputs": [
    {
     "name": "stdout",
     "output_type": "stream",
     "text": [
      "814781 records sent, 162956.2 records/sec (159.14 MB/sec), 170.0 ms avg latency (window), 607.0 ms max latency (window), 170.0 ms avg latency, 607.0 ms max latency.\n",
      "1518380 records sent, 303676.0 records/sec (296.56 MB/sec), 105.9 ms avg latency (window), 152.0 ms max latency (window), 128.3 ms avg latency, 607.0 ms max latency.\n",
      "1679066 records sent, 335813.2 records/sec (327.94 MB/sec), 95.1 ms avg latency (window), 114.0 ms max latency (window), 114.4 ms avg latency, 607.0 ms max latency.\n",
      "1582370 records sent, 316474.0 records/sec (309.06 MB/sec), 100.6 ms avg latency (window), 128.0 ms max latency (window), 110.5 ms avg latency, 607.0 ms max latency.\n",
      "1592482 records sent, 318496.4 records/sec (311.03 MB/sec), 90.4 ms avg latency (window), 114.0 ms max latency (window), 106.0 ms avg latency, 607.0 ms max latency.\n",
      "1773708 records sent, 354741.6 records/sec (346.43 MB/sec), 90.7 ms avg latency (window), 111.0 ms max latency (window), 103.0 ms avg latency, 607.0 ms max latency.\n",
      "10000000 records sent, 303177.298084 records/sec (296.07 MB/sec), 101.80 ms avg latency, 607.00 ms max latency, 96 ms 50th, 146 ms 95th, 206 ms 99th, 397 ms 99.9th.\n",
      "Benchmark producer done\n"
     ]
    }
   ],
   "source": [
    "# benchmark the producer performance of pafka\n",
    "bench_producer(num_records=10000000, record_size=1024)"
   ]
  },
  {
   "cell_type": "code",
   "execution_count": 10,
   "id": "12743b59-f2b1-4bdd-95d0-7e0e14d135fb",
   "metadata": {
    "tags": []
   },
   "outputs": [
    {
     "name": "stdout",
     "output_type": "stream",
     "text": [
      "time, threadId, data.consumed.in.MB, MB.sec, data.consumed.in.nMsg, nMsg.sec, rebalance.time.ms, fetch.time.ms, fetch.MB.sec, fetch.nMsg.sec, windowMaxLatency, windowAvgLatency, maxLatency, avgLatency\n",
      "2021-05-07 11:37:50:115, 0, 163.8389, 163.8389, 167771, 167771.0000, 247, 753, 217.5815, 222803.4529, 272.0000, 2.9370, 272.0000, 2.9370\n",
      "2021-05-07 11:37:51:115, 0, 534.1514, 370.3125, 546971, 379200.0000, 0, 1000, 370.3125, 379200.0000, 7.0000, 1.2876, 272.0000, 1.7935\n",
      "2021-05-07 11:37:52:116, 0, 951.6787, 417.1102, 974519, 427120.8791, 0, 1001, 417.1102, 427120.8791, 6.0000, 1.1513, 272.0000, 1.5117\n",
      "2021-05-07 11:37:53:116, 0, 1416.2920, 464.6133, 1450283, 475764.0000, 0, 1000, 464.6133, 475764.0000, 6.0000, 1.0315, 272.0000, 1.3542\n",
      "2021-05-07 11:37:54:116, 0, 1870.3623, 454.0703, 1915251, 464968.0000, 0, 1000, 454.0703, 464968.0000, 8.0000, 1.0529, 272.0000, 1.2811\n",
      "2021-05-07 11:37:55:116, 0, 2301.6475, 431.2852, 2356887, 441636.0000, 0, 1000, 431.2852, 441636.0000, 6.0000, 1.1123, 272.0000, 1.2494\n",
      "2021-05-07 11:37:56:116, 0, 2742.3193, 440.6719, 2808135, 451248.0000, 0, 1000, 440.6719, 451248.0000, 7.0000, 1.0875, 272.0000, 1.2234\n",
      "2021-05-07 11:37:57:118, 0, 3169.8506, 426.6779, 3245927, 436918.1637, 0, 1002, 426.6779, 436918.1637, 6.0000, 1.1231, 272.0000, 1.2099\n",
      "2021-05-07 11:37:58:118, 0, 3599.9014, 430.0508, 3686299, 440372.0000, 0, 1000, 430.0508, 440372.0000, 6.0000, 1.1165, 272.0000, 1.1987\n",
      "2021-05-07 11:37:59:118, 0, 4032.2412, 432.3398, 4129015, 442716.0000, 0, 1000, 432.3398, 442716.0000, 7.0000, 1.1092, 272.0000, 1.1891\n",
      "2021-05-07 11:38:00:118, 0, 4503.2842, 471.0430, 4611363, 482348.0000, 0, 1000, 471.0430, 482348.0000, 7.0000, 1.0154, 272.0000, 1.1710\n",
      "2021-05-07 11:38:01:118, 0, 4978.2100, 474.9258, 5097687, 486324.0000, 0, 1000, 474.9258, 486324.0000, 6.0000, 1.0073, 272.0000, 1.1553\n",
      "2021-05-07 11:38:02:119, 0, 5458.9990, 480.3088, 5590015, 491836.1638, 0, 1001, 480.3088, 491836.1638, 6.0000, 0.9962, 272.0000, 1.1413\n",
      "2021-05-07 11:38:03:119, 0, 5929.2959, 470.2969, 6071599, 481584.0000, 0, 1000, 470.2969, 481584.0000, 7.0000, 1.0192, 272.0000, 1.1316\n",
      "2021-05-07 11:38:04:119, 0, 6425.8232, 496.5273, 6580043, 508444.0000, 0, 1000, 496.5273, 508444.0000, 6.0000, 0.9629, 272.0000, 1.1186\n",
      "2021-05-07 11:38:05:119, 0, 6927.5967, 501.7734, 7093859, 513816.0000, 0, 1000, 501.7734, 513816.0000, 7.0000, 0.9550, 272.0000, 1.1067\n",
      "2021-05-07 11:38:06:121, 0, 7519.4795, 590.7014, 7699947, 604878.2435, 0, 1002, 590.7014, 604878.2435, 7.0000, 0.8081, 272.0000, 1.0832\n",
      "2021-05-07 11:38:07:121, 0, 8149.3193, 629.8398, 8344903, 644956.0000, 0, 1000, 629.8398, 644956.0000, 6.0000, 0.7583, 272.0000, 1.0581\n",
      "2021-05-07 11:38:08:121, 0, 8760.3350, 611.0156, 8970583, 625680.0000, 0, 1000, 611.0156, 625680.0000, 6.0000, 0.7782, 272.0000, 1.0386\n",
      "2021-05-07 11:38:09:121, 0, 9358.6982, 598.3633, 9583307, 612724.0000, 0, 1000, 598.3633, 612724.0000, 6.0000, 0.7967, 272.0000, 1.0231\n",
      "10000000 records received, 484308.41 records/sec (472.96 MB/sec), 1.01 ms avg latency, 272.00 ms max latency\n",
      "Benchmark consumer done\n"
     ]
    }
   ],
   "source": [
    "# benchmark the consumer performance of pafka\n",
    "bench_consumer(num_records=10000000)"
   ]
  },
  {
   "cell_type": "code",
   "execution_count": 11,
   "id": "a5e43504-8864-4fe3-a5eb-a1922343e7f8",
   "metadata": {},
   "outputs": [
    {
     "name": "stdout",
     "output_type": "stream",
     "text": [
      "stopping pafka ...\n",
      "pafka stopped\n",
      "data deleted\n"
     ]
    }
   ],
   "source": [
    "# stop zookeeper and kafka service\n",
    "stop_pafka(delete_data=True)"
   ]
  }
 ],
 "metadata": {
  "kernelspec": {
   "display_name": "Python 3",
   "language": "python",
   "name": "python3"
  },
  "language_info": {
   "codemirror_mode": {
    "name": "ipython",
    "version": 3
   },
   "file_extension": ".py",
   "mimetype": "text/x-python",
   "name": "python",
   "nbconvert_exporter": "python",
   "pygments_lexer": "ipython3",
   "version": "3.6.8"
  }
 },
 "nbformat": 4,
 "nbformat_minor": 5
}
