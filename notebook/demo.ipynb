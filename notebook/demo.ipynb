{
 "cells": [
  {
   "cell_type": "code",
   "execution_count": null,
   "id": "797212a6-c5f9-485c-b0d2-d49babef6459",
   "metadata": {},
   "outputs": [],
   "source": [
    "from command import start_kafka, start_pafka, stop_kafka, stop_pafka, bench_producer, bench_consumer, print_result\n",
    "# ***** benchmark for Kafka *****\n",
    "# Environment initialization, start zookeeper and kafka\n",
    "start_kafka()"
   ]
  },
  {
   "cell_type": "code",
   "execution_count": null,
   "id": "878b2ece-299d-450d-875a-4859a8f9231e",
   "metadata": {},
   "outputs": [],
   "source": [
    "# benchmark the producer performance of kafka\n",
    "bench_producer(num_records=30000000, record_size=1024)"
   ]
  },
  {
   "cell_type": "code",
   "execution_count": null,
   "id": "1591f2df-b4e0-4a7a-a7dc-31df6be57079",
   "metadata": {
    "tags": []
   },
   "outputs": [],
   "source": [
    "# benchmark the consumer performance of kafka\n",
    "bench_consumer(num_records=5000000)"
   ]
  },
  {
   "cell_type": "code",
   "execution_count": null,
   "id": "370213ca-e649-48a8-9273-adb5dfb9cdc5",
   "metadata": {},
   "outputs": [],
   "source": [
    "# stop zookeeper and kafka service, and delete all the data\n",
    "stop_kafka(delete_data=True)\n",
    "# ***** benchmark for Pafka *****\n",
    "# start pafka with PMem. if service already started. stop first\n",
    "# stop_pafka(delete_data=True)\n",
    "start_pafka()"
   ]
  },
  {
   "cell_type": "code",
   "execution_count": null,
   "id": "22b84d9c-d692-4ae0-900e-64e01200d516",
   "metadata": {},
   "outputs": [],
   "source": [
    "# benchmark the producer performance of pafka\n",
    "bench_producer(num_records=30000000, record_size=1024)"
   ]
  },
  {
   "cell_type": "code",
   "execution_count": null,
   "id": "12743b59-f2b1-4bdd-95d0-7e0e14d135fb",
   "metadata": {
    "tags": []
   },
   "outputs": [],
   "source": [
    "# benchmark the consumer performance of pafka\n",
    "bench_consumer(num_records=10000000)"
   ]
  },
  {
   "cell_type": "code",
   "execution_count": null,
   "id": "a5e43504-8864-4fe3-a5eb-a1922343e7f8",
   "metadata": {},
   "outputs": [],
   "source": [
    "# stop zookeeper and kafka service\n",
    "stop_pafka(delete_data=True)"
   ]
  },
  {
   "cell_type": "code",
   "execution_count": null,
   "id": "4808c5d3-b84e-4d6f-8f95-5b3ad2be1736",
   "metadata": {},
   "outputs": [],
   "source": [
    "# print the summarized results\n",
    "print_result()"
   ]
  },
  {
   "cell_type": "code",
   "execution_count": null,
   "id": "46fca0ef-9218-43af-92ac-f3505a2816ba",
   "metadata": {},
   "outputs": [],
   "source": []
  }
 ],
 "metadata": {
  "kernelspec": {
   "display_name": "Python 3",
   "language": "python",
   "name": "python3"
  },
  "language_info": {
   "codemirror_mode": {
    "name": "ipython",
    "version": 3
   },
   "file_extension": ".py",
   "mimetype": "text/x-python",
   "name": "python",
   "nbconvert_exporter": "python",
   "pygments_lexer": "ipython3",
   "version": "3.6.8"
  }
 },
 "nbformat": 4,
 "nbformat_minor": 5
}
